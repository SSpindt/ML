{
 "cells": [
  {
   "cell_type": "code",
   "execution_count": 1,
   "id": "9eb92d5a",
   "metadata": {},
   "outputs": [],
   "source": [
    "import pandas as pd\n",
    "df = pd.read_csv(\"diffusion_db_unaltered.csv\")"
   ]
  },
  {
   "cell_type": "code",
   "execution_count": 2,
   "id": "95c2f812",
   "metadata": {},
   "outputs": [
    {
     "name": "stdout",
     "output_type": "stream",
     "text": [
      "<class 'pandas.core.frame.DataFrame'>\n",
      "RangeIndex: 2000000 entries, 0 to 1999999\n",
      "Data columns (total 3 columns):\n",
      " #   Column       Dtype  \n",
      "---  ------       -----  \n",
      " 0   prompt       object \n",
      " 1   image_nsfw   float64\n",
      " 2   prompt_nsfw  float64\n",
      "dtypes: float64(2), object(1)\n",
      "memory usage: 45.8+ MB\n"
     ]
    }
   ],
   "source": [
    "df.info()"
   ]
  },
  {
   "cell_type": "code",
   "execution_count": 6,
   "id": "97ddcb3f",
   "metadata": {},
   "outputs": [],
   "source": [
    "prompt = df[\"prompt\"][0]"
   ]
  },
  {
   "cell_type": "code",
   "execution_count": 9,
   "id": "62eeb7da",
   "metadata": {},
   "outputs": [
    {
     "data": {
      "text/plain": [
       "'a portrait of a female robot made from code, very intricate details, octane render, 8 k, trending on artstation '"
      ]
     },
     "execution_count": 9,
     "metadata": {},
     "output_type": "execute_result"
    }
   ],
   "source": [
    "prompt"
   ]
  },
  {
   "cell_type": "code",
   "execution_count": 11,
   "id": "42dd9c5d",
   "metadata": {},
   "outputs": [],
   "source": [
    "# Moderate on the presence of the word \"nudity\" in the prompt\n",
    "\n",
    "if \"nudity\" in prompt:\n",
    "    vector = [1]\n",
    "else:\n",
    "    vector = [0]"
   ]
  }
 ],
 "metadata": {
  "kernelspec": {
   "display_name": "Python 3 (ipykernel)",
   "language": "python",
   "name": "python3"
  },
  "language_info": {
   "codemirror_mode": {
    "name": "ipython",
    "version": 3
   },
   "file_extension": ".py",
   "mimetype": "text/x-python",
   "name": "python",
   "nbconvert_exporter": "python",
   "pygments_lexer": "ipython3",
   "version": "3.9.13"
  }
 },
 "nbformat": 4,
 "nbformat_minor": 5
}
