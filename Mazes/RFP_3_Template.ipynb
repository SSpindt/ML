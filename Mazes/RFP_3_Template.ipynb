{
 "cells": [
  {
   "cell_type": "markdown",
   "id": "fdb73e9d",
   "metadata": {},
   "source": [
    "# RFP: Maze Solvers\n",
    "\n",
    "## Project Overview\n",
    "You are invited to submit a proposal that answers the following question:\n",
    "\n",
    "### What path will your elf take?\n",
    "\n",
    "*Please submit your proposal by **2/11/25 at 11:59 PM**.*"
   ]
  },
  {
   "cell_type": "markdown",
   "id": "d88b6a60",
   "metadata": {},
   "source": [
    "## Required Proposal Components\n",
    "\n",
    "### 1. Data Description\n",
    "In the code cell below, use [Gymnasium](https://gymnasium.farama.org/) to set up a [Frozen Lake maze](https://gymnasium.farama.org/environments/toy_text/frozen_lake/) for your project. When you are done with the set up, describe the reward system you plan on using.\n",
    "\n",
    "*Note, a level 5 maze is at least 10 x 10 cells large and contains at least five lake cells.*"
   ]
  },
  {
   "cell_type": "code",
   "execution_count": 1,
   "id": "8744bf04",
   "metadata": {},
   "outputs": [],
   "source": [
    "import gymnasium as gym\n",
    "import pandas as pd\n",
    "import random"
   ]
  },
  {
   "cell_type": "code",
   "execution_count": 10,
   "id": "34314a12",
   "metadata": {},
   "outputs": [],
   "source": [
    "# Make small test maze\n",
    "maze=[\"SF\", \"FH\", \"FG\"]\n",
    "env = gym.make('FrozenLake-v1', desc=maze, render_mode='human', is_slippery=False)\n",
    "initial_state = env.reset()\n",
    "env.render()"
   ]
  },
  {
   "cell_type": "markdown",
   "id": "c38ed9f9",
   "metadata": {},
   "source": [
    "# My Reward System:\n",
    "- +100 for gift\n",
    "- -1 for empty space\n",
    "- -100 for lake"
   ]
  },
  {
   "cell_type": "markdown",
   "id": "67f80b3f",
   "metadata": {},
   "source": [
    "### 2. Training Your Model\n",
    "In the cell seen below, write the code you need to train a Q-Learning model. Display your final Q-table once you are done training your model.\n",
    "\n",
    "*Note, level 5 work uses only the standard Python library and Pandas to train your Q-Learning model. A level 4 uses external libraries like Baseline3.*"
   ]
  },
  {
   "cell_type": "code",
   "execution_count": 3,
   "id": "73e62305",
   "metadata": {},
   "outputs": [],
   "source": [
    "# Set up q-table\n",
    "    # key is the state of cell\n",
    "    # index of list is the action\n",
    "        # Left: 0, Down: 1, 2: Right, 3: Up\n",
    "\n",
    "q = {\n",
    "    0: [0,0,0,0], \n",
    "    1: [0,0,0,0], \n",
    "    2: [0,0,0,0], \n",
    "    3: [0,0,0,0],\n",
    "    4: [0,0,0,0],\n",
    "    5: [0,0,0,0]\n",
    "}"
   ]
  },
  {
   "cell_type": "code",
   "execution_count": 4,
   "id": "57c59b0d",
   "metadata": {},
   "outputs": [],
   "source": [
    "# Create my own reward system\n",
    "cell_types =[\"S\", \"F\", \"F\", \"H\", \"F\", \"G\"]\n",
    "\n",
    "def getReward(state):\n",
    "    if cell_types[state] == \"G\":\n",
    "        return 100\n",
    "    elif cell_types[state] == \"H\":\n",
    "        return -100\n",
    "    else:\n",
    "        return -1"
   ]
  },
  {
   "cell_type": "code",
   "execution_count": 5,
   "id": "a7810b34",
   "metadata": {},
   "outputs": [],
   "source": [
    "# This function uses the Bellman Equation to update the q-table: \n",
    "    # new_q = (1-alpha) * q(s, a) + alpha * (R + gamma(max(q(s`, a`))))\n",
    "def updateQTable(q, alpha, gamma, current_state, next_state, action):\n",
    "    current_q = q[current_state][action]\n",
    "    reward = getReward(next_state)\n",
    "    next_state_row = [q[next_state][0], q[next_state][1], q[next_state][2], q[next_state][3]] \n",
    "    next_max_q = max(next_state_row)\n",
    "    new_q = ((1-alpha) * current_q) + (alpha * (reward + (gamma * next_max_q)))\n",
    "    q[current_state][action] = new_q"
   ]
  },
  {
   "cell_type": "code",
   "execution_count": 7,
   "id": "1428ec40",
   "metadata": {},
   "outputs": [],
   "source": [
    "# Train Q-Model for 1000 episodes\n",
    "# All actions are random\n",
    "current_state = 0\n",
    "alpha = 0.2\n",
    "gamma = 0.8\n",
    "terminated = False\n",
    "for episode in range(100):\n",
    "    while not terminated:\n",
    "        action = random.randint(0, 3)\n",
    "        new_state, reward, terminated, truncated, info = env.step(action)\n",
    "        updateQTable(q, alpha, gamma, current_state, new_state, action)\n",
    "        current_state = new_state\n",
    "    inital = env.reset()\n",
    "    terminated = False"
   ]
  },
  {
   "cell_type": "code",
   "execution_count": 8,
   "id": "75cdbf2b",
   "metadata": {},
   "outputs": [
    {
     "data": {
      "text/html": [
       "<div>\n",
       "<style scoped>\n",
       "    .dataframe tbody tr th:only-of-type {\n",
       "        vertical-align: middle;\n",
       "    }\n",
       "\n",
       "    .dataframe tbody tr th {\n",
       "        vertical-align: top;\n",
       "    }\n",
       "\n",
       "    .dataframe thead th {\n",
       "        text-align: right;\n",
       "    }\n",
       "</style>\n",
       "<table border=\"1\" class=\"dataframe\">\n",
       "  <thead>\n",
       "    <tr style=\"text-align: right;\">\n",
       "      <th></th>\n",
       "      <th>Left</th>\n",
       "      <th>Down</th>\n",
       "      <th>Right</th>\n",
       "      <th>Up</th>\n",
       "    </tr>\n",
       "  </thead>\n",
       "  <tbody>\n",
       "    <tr>\n",
       "      <th>0</th>\n",
       "      <td>37.032517</td>\n",
       "      <td>49.566938</td>\n",
       "      <td>26.506268</td>\n",
       "      <td>35.258347</td>\n",
       "    </tr>\n",
       "    <tr>\n",
       "      <th>1</th>\n",
       "      <td>35.730817</td>\n",
       "      <td>-66.131310</td>\n",
       "      <td>23.401581</td>\n",
       "      <td>24.409210</td>\n",
       "    </tr>\n",
       "    <tr>\n",
       "      <th>2</th>\n",
       "      <td>48.030870</td>\n",
       "      <td>66.608144</td>\n",
       "      <td>-72.419408</td>\n",
       "      <td>36.657258</td>\n",
       "    </tr>\n",
       "    <tr>\n",
       "      <th>3</th>\n",
       "      <td>27.908890</td>\n",
       "      <td>45.655355</td>\n",
       "      <td>20.622002</td>\n",
       "      <td>32.056474</td>\n",
       "    </tr>\n",
       "    <tr>\n",
       "      <th>4</th>\n",
       "      <td>46.859480</td>\n",
       "      <td>57.989579</td>\n",
       "      <td>95.995095</td>\n",
       "      <td>41.159410</td>\n",
       "    </tr>\n",
       "    <tr>\n",
       "      <th>5</th>\n",
       "      <td>13.667236</td>\n",
       "      <td>9.965760</td>\n",
       "      <td>6.488395</td>\n",
       "      <td>7.416808</td>\n",
       "    </tr>\n",
       "  </tbody>\n",
       "</table>\n",
       "</div>"
      ],
      "text/plain": [
       "        Left       Down      Right         Up\n",
       "0  37.032517  49.566938  26.506268  35.258347\n",
       "1  35.730817 -66.131310  23.401581  24.409210\n",
       "2  48.030870  66.608144 -72.419408  36.657258\n",
       "3  27.908890  45.655355  20.622002  32.056474\n",
       "4  46.859480  57.989579  95.995095  41.159410\n",
       "5  13.667236   9.965760   6.488395   7.416808"
      ]
     },
     "execution_count": 8,
     "metadata": {},
     "output_type": "execute_result"
    }
   ],
   "source": [
    "df = pd.DataFrame(q)\n",
    "df = df.T\n",
    "df.columns = [\"Left\", \"Down\", \"Right\", \"Up\"]\n",
    "df.head(6)"
   ]
  },
  {
   "cell_type": "code",
   "execution_count": 9,
   "id": "3572e0c9",
   "metadata": {},
   "outputs": [],
   "source": [
    "env.close()\n",
    "# Save final q table as a csv file\n",
    "df.to_csv('final_q_values.csv', index=False)"
   ]
  },
  {
   "cell_type": "markdown",
   "id": "3b912364",
   "metadata": {},
   "source": [
    "### 3. Testing Your Model\n",
    "In the cell seen below, write the code you need to test your Q-Learning model for **1000 episodes**. It is important to test your model for 1000 episodes so that we are all able to compare our results.\n",
    "\n",
    "*Note, level 5 testing uses both a success rate and an average steps taken metric to evaluate your model. Level 4 uses one or the other.*"
   ]
  },
  {
   "cell_type": "code",
   "execution_count": 57,
   "id": "e30cf1dd",
   "metadata": {},
   "outputs": [],
   "source": [
    "# Test your model here\n",
    "maze=[\"SF\", \"FH\", \"FG\"]\n",
    "env = gym.make('FrozenLake-v1', desc=maze, render_mode='human', is_slippery=False)\n",
    "initial_state = env.reset()\n",
    "env.render()"
   ]
  },
  {
   "cell_type": "code",
   "execution_count": null,
   "id": "a8e932eb",
   "metadata": {},
   "outputs": [],
   "source": [
    "current_state = 0\n",
    "terminated = False\n",
    "success_rate = 0\n",
    "for i in range(1000):\n",
    "    while not terminated:\n",
    "        max_q = df.iloc[current_state].max()\n",
    "        column_name = df.columns[(df == max_q).any()].tolist()\n",
    "        current_state, terminated = takeAction(column_name[0])\n",
    "    cell_types =[\"S\", \"F\", \"F\", \"H\", \"F\", \"G\"]\n",
    "    terminated = False\n",
    "    initial_state = env.reset()\n",
    "    if cell_types[current_state] == \"G\":\n",
    "        success_rate += 1\n",
    "print((success_rate/1000) * 100)"
   ]
  },
  {
   "cell_type": "code",
   "execution_count": 56,
   "id": "a371e86e",
   "metadata": {},
   "outputs": [
    {
     "name": "stdout",
     "output_type": "stream",
     "text": [
      "5\n"
     ]
    }
   ],
   "source": [
    "print(current_state)"
   ]
  },
  {
   "cell_type": "code",
   "execution_count": 32,
   "id": "72c4a7a0",
   "metadata": {},
   "outputs": [],
   "source": [
    "max_q = df.iloc[current_state].max()\n",
    "column_name = df.columns[(df == max_q).any()].tolist()\n",
    "current_state = takeAction(column_name[0])"
   ]
  },
  {
   "cell_type": "code",
   "execution_count": 45,
   "id": "cb9f1c68",
   "metadata": {},
   "outputs": [],
   "source": [
    "def takeAction(description):\n",
    "    if description == \"Down\":\n",
    "        new_state, reward, terminated, truncated, info = env.step(1)\n",
    "    elif description == \"Up\":\n",
    "        new_state, reward, terminated, truncated, info = env.step(3)\n",
    "    elif description == \"Left\":\n",
    "        new_state, reward, terminated, truncated, info = env.step(0)\n",
    "    elif description == \"Right\":\n",
    "        new_state, reward, terminated, truncated, info = env.step(2)\n",
    "    return new_state, terminated"
   ]
  },
  {
   "cell_type": "markdown",
   "id": "78e7e09e",
   "metadata": {},
   "source": [
    "### 4. Final Answer\n",
    "In the first cell below, describe the path your elf takes to get to the gift. *Note, a level 5 answer includes a gif of the path your elf takes in order to reach the gift.*\n",
    "\n",
    "In the second cell seen below, describe how well your Q-Learning model performed. Make sure that you explicitly name the **learning rate**, **the discount factor**, and the **reward system** that you used when training your final model. *Note, a level 5 description describes the model's performance using two types of quantitative evidence.*"
   ]
  },
  {
   "cell_type": "markdown",
   "id": "9b6eef8e",
   "metadata": {},
   "source": [
    "![example image](https://raw.githubusercontent.com/SSpindt/ML/refs/heads/main/Mazes/FrozenLake2025-02-1111-34-15-ezgif.com-video-to-gif-converter.gif)"
   ]
  },
  {
   "cell_type": "markdown",
   "id": "54fdae15",
   "metadata": {},
   "source": [
    "#### Describe the path your elf takes here."
   ]
  },
  {
   "cell_type": "markdown",
   "id": "6b8f66ed",
   "metadata": {},
   "source": [
    "#### Describe how well your Q-Learning model performed here."
   ]
  }
 ],
 "metadata": {
  "kernelspec": {
   "display_name": "Python 3 (ipykernel)",
   "language": "python",
   "name": "python3"
  },
  "language_info": {
   "codemirror_mode": {
    "name": "ipython",
    "version": 3
   },
   "file_extension": ".py",
   "mimetype": "text/x-python",
   "name": "python",
   "nbconvert_exporter": "python",
   "pygments_lexer": "ipython3",
   "version": "3.9.13"
  }
 },
 "nbformat": 4,
 "nbformat_minor": 5
}
