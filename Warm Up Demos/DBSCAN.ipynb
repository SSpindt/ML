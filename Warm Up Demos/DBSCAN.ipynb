{
 "cells": [
  {
   "cell_type": "code",
   "execution_count": 1,
   "id": "78598a8f",
   "metadata": {
    "collapsed": true
   },
   "outputs": [
    {
     "name": "stderr",
     "output_type": "stream",
     "text": [
      "C:\\ProgramData\\Anaconda3\\lib\\site-packages\\scipy\\__init__.py:155: UserWarning: A NumPy version >=1.18.5 and <1.25.0 is required for this version of SciPy (detected version 1.26.4\n",
      "  warnings.warn(f\"A NumPy version >={np_minversion} and <{np_maxversion}\"\n"
     ]
    }
   ],
   "source": [
    "import pandas as pd\n",
    "from sklearn.cluster import DBSCAN\n",
    "from sklearn.metrics import silhouette_score"
   ]
  },
  {
   "cell_type": "code",
   "execution_count": 3,
   "id": "5adf291c",
   "metadata": {},
   "outputs": [
    {
     "data": {
      "text/html": [
       "<div>\n",
       "<style scoped>\n",
       "    .dataframe tbody tr th:only-of-type {\n",
       "        vertical-align: middle;\n",
       "    }\n",
       "\n",
       "    .dataframe tbody tr th {\n",
       "        vertical-align: top;\n",
       "    }\n",
       "\n",
       "    .dataframe thead th {\n",
       "        text-align: right;\n",
       "    }\n",
       "</style>\n",
       "<table border=\"1\" class=\"dataframe\">\n",
       "  <thead>\n",
       "    <tr style=\"text-align: right;\">\n",
       "      <th></th>\n",
       "      <th>playlist</th>\n",
       "      <th>tracks</th>\n",
       "      <th>average_track_popularity</th>\n",
       "      <th>albums</th>\n",
       "      <th>artists</th>\n",
       "      <th>top_genre</th>\n",
       "      <th>average_artist_popularity</th>\n",
       "      <th>average_danceability</th>\n",
       "      <th>top_key</th>\n",
       "      <th>average_tempo</th>\n",
       "      <th>top_time_signature</th>\n",
       "    </tr>\n",
       "  </thead>\n",
       "  <tbody>\n",
       "    <tr>\n",
       "      <th>0</th>\n",
       "      <td>Playlist 1</td>\n",
       "      <td>['Oops!...I Did It Again', 'All The Small Thin...</td>\n",
       "      <td>65.66</td>\n",
       "      <td>['Oops!... I Did It Again', 'Enema Of The Stat...</td>\n",
       "      <td>['Britney Spears', 'blink-182', 'Faith Hill', ...</td>\n",
       "      <td>'dancepop'</td>\n",
       "      <td>66.17</td>\n",
       "      <td>0.65875</td>\n",
       "      <td>0</td>\n",
       "      <td>122.75544</td>\n",
       "      <td>4</td>\n",
       "    </tr>\n",
       "    <tr>\n",
       "      <th>1</th>\n",
       "      <td>Playlist 2</td>\n",
       "      <td>[\"It Wasn't Me\", 'Murder On The Dancefloor', '...</td>\n",
       "      <td>66.79</td>\n",
       "      <td>['Hot Shot', 'Read My Lips', 'The Marshall Mat...</td>\n",
       "      <td>['Shaggy', 'Sophie Ellis-Bextor', 'Eminem', 'K...</td>\n",
       "      <td>'dancepop'</td>\n",
       "      <td>65.65</td>\n",
       "      <td>0.67281</td>\n",
       "      <td>1</td>\n",
       "      <td>115.99193</td>\n",
       "      <td>4</td>\n",
       "    </tr>\n",
       "    <tr>\n",
       "      <th>2</th>\n",
       "      <td>Playlist 3</td>\n",
       "      <td>['Dilemma', 'Without Me', 'Complicated', 'A Th...</td>\n",
       "      <td>64.64</td>\n",
       "      <td>['Nellyville', 'The Eminem Show', 'Let Go', 'B...</td>\n",
       "      <td>['Nelly', 'Eminem', 'Avril Lavigne', 'Vanessa ...</td>\n",
       "      <td>'dancepop'</td>\n",
       "      <td>69.48</td>\n",
       "      <td>0.65076</td>\n",
       "      <td>2</td>\n",
       "      <td>119.75400</td>\n",
       "      <td>4</td>\n",
       "    </tr>\n",
       "    <tr>\n",
       "      <th>3</th>\n",
       "      <td>Playlist 4</td>\n",
       "      <td>['In Da Club', 'Seven Nation Army', 'Lose Your...</td>\n",
       "      <td>66.25</td>\n",
       "      <td>[\"Get Rich Or Die Tryin'\", 'Elephant', 'Curtai...</td>\n",
       "      <td>['50 Cent', 'The White Stripes', 'Eminem', 'Be...</td>\n",
       "      <td>'dancepop'</td>\n",
       "      <td>68.93</td>\n",
       "      <td>0.66311</td>\n",
       "      <td>6</td>\n",
       "      <td>116.05242</td>\n",
       "      <td>4</td>\n",
       "    </tr>\n",
       "    <tr>\n",
       "      <th>4</th>\n",
       "      <td>Playlist 5</td>\n",
       "      <td>['Yeah! (feat. Lil Jon &amp; Ludacris)', 'This Lov...</td>\n",
       "      <td>67.68</td>\n",
       "      <td>['Confessions (Expanded Edition)', 'Songs Abou...</td>\n",
       "      <td>['USHER', 'Maroon 5', 'Rascal Flatts', 'Britne...</td>\n",
       "      <td>'dancepop'</td>\n",
       "      <td>69.48</td>\n",
       "      <td>0.66997</td>\n",
       "      <td>1</td>\n",
       "      <td>117.81705</td>\n",
       "      <td>4</td>\n",
       "    </tr>\n",
       "  </tbody>\n",
       "</table>\n",
       "</div>"
      ],
      "text/plain": [
       "     playlist                                             tracks  \\\n",
       "0  Playlist 1  ['Oops!...I Did It Again', 'All The Small Thin...   \n",
       "1  Playlist 2  [\"It Wasn't Me\", 'Murder On The Dancefloor', '...   \n",
       "2  Playlist 3  ['Dilemma', 'Without Me', 'Complicated', 'A Th...   \n",
       "3  Playlist 4  ['In Da Club', 'Seven Nation Army', 'Lose Your...   \n",
       "4  Playlist 5  ['Yeah! (feat. Lil Jon & Ludacris)', 'This Lov...   \n",
       "\n",
       "   average_track_popularity  \\\n",
       "0                     65.66   \n",
       "1                     66.79   \n",
       "2                     64.64   \n",
       "3                     66.25   \n",
       "4                     67.68   \n",
       "\n",
       "                                              albums  \\\n",
       "0  ['Oops!... I Did It Again', 'Enema Of The Stat...   \n",
       "1  ['Hot Shot', 'Read My Lips', 'The Marshall Mat...   \n",
       "2  ['Nellyville', 'The Eminem Show', 'Let Go', 'B...   \n",
       "3  [\"Get Rich Or Die Tryin'\", 'Elephant', 'Curtai...   \n",
       "4  ['Confessions (Expanded Edition)', 'Songs Abou...   \n",
       "\n",
       "                                             artists   top_genre  \\\n",
       "0  ['Britney Spears', 'blink-182', 'Faith Hill', ...  'dancepop'   \n",
       "1  ['Shaggy', 'Sophie Ellis-Bextor', 'Eminem', 'K...  'dancepop'   \n",
       "2  ['Nelly', 'Eminem', 'Avril Lavigne', 'Vanessa ...  'dancepop'   \n",
       "3  ['50 Cent', 'The White Stripes', 'Eminem', 'Be...  'dancepop'   \n",
       "4  ['USHER', 'Maroon 5', 'Rascal Flatts', 'Britne...  'dancepop'   \n",
       "\n",
       "   average_artist_popularity  average_danceability  top_key  average_tempo  \\\n",
       "0                      66.17               0.65875        0      122.75544   \n",
       "1                      65.65               0.67281        1      115.99193   \n",
       "2                      69.48               0.65076        2      119.75400   \n",
       "3                      68.93               0.66311        6      116.05242   \n",
       "4                      69.48               0.66997        1      117.81705   \n",
       "\n",
       "   top_time_signature  \n",
       "0                   4  \n",
       "1                   4  \n",
       "2                   4  \n",
       "3                   4  \n",
       "4                   4  "
      ]
     },
     "execution_count": 3,
     "metadata": {},
     "output_type": "execute_result"
    }
   ],
   "source": [
    "df = pd.read_csv(\"data.csv\")\n",
    "df.head()"
   ]
  },
  {
   "cell_type": "code",
   "execution_count": 4,
   "id": "73e730f1",
   "metadata": {},
   "outputs": [],
   "source": [
    "X = df[['average_track_popularity', 'average_artist_popularity']]"
   ]
  },
  {
   "cell_type": "code",
   "execution_count": 5,
   "id": "9445a3b7",
   "metadata": {},
   "outputs": [],
   "source": [
    "model = DBSCAN(eps=3, min_samples=2).fit(X)"
   ]
  },
  {
   "cell_type": "code",
   "execution_count": 6,
   "id": "29054323",
   "metadata": {},
   "outputs": [
    {
     "data": {
      "text/plain": [
       "array([ 0,  0,  0,  0,  0,  0,  0,  0,  0,  0,  0,  0,  1,  1,  0,  1,  1,\n",
       "        1,  1,  1,  2,  2, -1, -1], dtype=int64)"
      ]
     },
     "execution_count": 6,
     "metadata": {},
     "output_type": "execute_result"
    }
   ],
   "source": [
    "model.labels_"
   ]
  },
  {
   "cell_type": "code",
   "execution_count": 7,
   "id": "7520cfdf",
   "metadata": {},
   "outputs": [],
   "source": [
    "df['labels'] = model.labels_"
   ]
  },
  {
   "cell_type": "code",
   "execution_count": 14,
   "id": "7df41d08",
   "metadata": {},
   "outputs": [
    {
     "data": {
      "text/html": [
       "<div>\n",
       "<style scoped>\n",
       "    .dataframe tbody tr th:only-of-type {\n",
       "        vertical-align: middle;\n",
       "    }\n",
       "\n",
       "    .dataframe tbody tr th {\n",
       "        vertical-align: top;\n",
       "    }\n",
       "\n",
       "    .dataframe thead th {\n",
       "        text-align: right;\n",
       "    }\n",
       "</style>\n",
       "<table border=\"1\" class=\"dataframe\">\n",
       "  <thead>\n",
       "    <tr style=\"text-align: right;\">\n",
       "      <th></th>\n",
       "      <th>playlist</th>\n",
       "      <th>tracks</th>\n",
       "      <th>average_track_popularity</th>\n",
       "      <th>albums</th>\n",
       "      <th>artists</th>\n",
       "      <th>top_genre</th>\n",
       "      <th>average_artist_popularity</th>\n",
       "      <th>average_danceability</th>\n",
       "      <th>top_key</th>\n",
       "      <th>average_tempo</th>\n",
       "      <th>top_time_signature</th>\n",
       "      <th>labels</th>\n",
       "    </tr>\n",
       "  </thead>\n",
       "  <tbody>\n",
       "    <tr>\n",
       "      <th>12</th>\n",
       "      <td>Playlist 13</td>\n",
       "      <td>['Locked out of Heaven', 'Call Me Maybe', 'We ...</td>\n",
       "      <td>72.99</td>\n",
       "      <td>['Unorthodox Jukebox', 'Kiss (Deluxe)', 'Some ...</td>\n",
       "      <td>['Bruno Mars', 'Carly Rae Jepsen', 'fun.', 'Ri...</td>\n",
       "      <td>'pop'</td>\n",
       "      <td>78.68</td>\n",
       "      <td>0.63453</td>\n",
       "      <td>0</td>\n",
       "      <td>123.29756</td>\n",
       "      <td>4</td>\n",
       "      <td>1</td>\n",
       "    </tr>\n",
       "    <tr>\n",
       "      <th>13</th>\n",
       "      <td>Playlist 14</td>\n",
       "      <td>['Mirrors', 'Blurred Lines', 'Royals', 'Anothe...</td>\n",
       "      <td>72.90</td>\n",
       "      <td>['The 20/20 Experience (Deluxe Version)', 'Blu...</td>\n",
       "      <td>['Justin Timberlake', 'Robin Thicke', 'Lorde',...</td>\n",
       "      <td>'pop'</td>\n",
       "      <td>79.28</td>\n",
       "      <td>0.63060</td>\n",
       "      <td>1</td>\n",
       "      <td>117.69925</td>\n",
       "      <td>4</td>\n",
       "      <td>1</td>\n",
       "    </tr>\n",
       "    <tr>\n",
       "      <th>15</th>\n",
       "      <td>Playlist 16</td>\n",
       "      <td>['Uptown Funk (feat. Bruno Mars)', 'Thinking o...</td>\n",
       "      <td>76.10</td>\n",
       "      <td>['Uptown Special', 'x (Deluxe Edition)', 'See ...</td>\n",
       "      <td>['Mark Ronson', 'Ed Sheeran', 'Wiz Khalifa', '...</td>\n",
       "      <td>'pop'</td>\n",
       "      <td>78.89</td>\n",
       "      <td>0.64909</td>\n",
       "      <td>7</td>\n",
       "      <td>121.71692</td>\n",
       "      <td>4</td>\n",
       "      <td>1</td>\n",
       "    </tr>\n",
       "    <tr>\n",
       "      <th>16</th>\n",
       "      <td>Playlist 17</td>\n",
       "      <td>['Starboy', 'One Dance', 'Love Yourself', 'Clo...</td>\n",
       "      <td>75.02</td>\n",
       "      <td>['Starboy', 'Views', 'Purpose (Deluxe)', 'Clos...</td>\n",
       "      <td>['The Weeknd', 'Drake', 'Justin Bieber', 'The ...</td>\n",
       "      <td>'pop'</td>\n",
       "      <td>78.45</td>\n",
       "      <td>0.65131</td>\n",
       "      <td>7</td>\n",
       "      <td>117.18515</td>\n",
       "      <td>4</td>\n",
       "      <td>1</td>\n",
       "    </tr>\n",
       "    <tr>\n",
       "      <th>17</th>\n",
       "      <td>Playlist 18</td>\n",
       "      <td>['Shape of You', \"Say You Won't Let Go\", 'Desp...</td>\n",
       "      <td>78.21</td>\n",
       "      <td>['÷ (Deluxe)', 'Back from the Edge', 'VIDA', '...</td>\n",
       "      <td>['Ed Sheeran', 'James Arthur', 'Luis Fonsi', '...</td>\n",
       "      <td>'pop'</td>\n",
       "      <td>81.23</td>\n",
       "      <td>0.69396</td>\n",
       "      <td>11</td>\n",
       "      <td>120.74486</td>\n",
       "      <td>4</td>\n",
       "      <td>1</td>\n",
       "    </tr>\n",
       "    <tr>\n",
       "      <th>18</th>\n",
       "      <td>Playlist 19</td>\n",
       "      <td>['lovely (with Khalid)', 'All The Stars (with ...</td>\n",
       "      <td>75.39</td>\n",
       "      <td>['lovely (with Khalid)', 'Black Panther The Al...</td>\n",
       "      <td>['Billie Eilish', 'Kendrick Lamar', 'Imagine D...</td>\n",
       "      <td>'pop'</td>\n",
       "      <td>79.35</td>\n",
       "      <td>0.69650</td>\n",
       "      <td>1</td>\n",
       "      <td>118.86209</td>\n",
       "      <td>4</td>\n",
       "      <td>1</td>\n",
       "    </tr>\n",
       "    <tr>\n",
       "      <th>19</th>\n",
       "      <td>Playlist 20</td>\n",
       "      <td>['thank u, next', 'bad guy', 'Señorita', '7 ri...</td>\n",
       "      <td>76.10</td>\n",
       "      <td>['thank u, next', 'WHEN WE ALL FALL ASLEEP, WH...</td>\n",
       "      <td>['Ariana Grande', 'Billie Eilish', 'Shawn Mend...</td>\n",
       "      <td>'pop'</td>\n",
       "      <td>81.16</td>\n",
       "      <td>0.71004</td>\n",
       "      <td>1</td>\n",
       "      <td>120.02957</td>\n",
       "      <td>4</td>\n",
       "      <td>1</td>\n",
       "    </tr>\n",
       "  </tbody>\n",
       "</table>\n",
       "</div>"
      ],
      "text/plain": [
       "       playlist                                             tracks  \\\n",
       "12  Playlist 13  ['Locked out of Heaven', 'Call Me Maybe', 'We ...   \n",
       "13  Playlist 14  ['Mirrors', 'Blurred Lines', 'Royals', 'Anothe...   \n",
       "15  Playlist 16  ['Uptown Funk (feat. Bruno Mars)', 'Thinking o...   \n",
       "16  Playlist 17  ['Starboy', 'One Dance', 'Love Yourself', 'Clo...   \n",
       "17  Playlist 18  ['Shape of You', \"Say You Won't Let Go\", 'Desp...   \n",
       "18  Playlist 19  ['lovely (with Khalid)', 'All The Stars (with ...   \n",
       "19  Playlist 20  ['thank u, next', 'bad guy', 'Señorita', '7 ri...   \n",
       "\n",
       "    average_track_popularity  \\\n",
       "12                     72.99   \n",
       "13                     72.90   \n",
       "15                     76.10   \n",
       "16                     75.02   \n",
       "17                     78.21   \n",
       "18                     75.39   \n",
       "19                     76.10   \n",
       "\n",
       "                                               albums  \\\n",
       "12  ['Unorthodox Jukebox', 'Kiss (Deluxe)', 'Some ...   \n",
       "13  ['The 20/20 Experience (Deluxe Version)', 'Blu...   \n",
       "15  ['Uptown Special', 'x (Deluxe Edition)', 'See ...   \n",
       "16  ['Starboy', 'Views', 'Purpose (Deluxe)', 'Clos...   \n",
       "17  ['÷ (Deluxe)', 'Back from the Edge', 'VIDA', '...   \n",
       "18  ['lovely (with Khalid)', 'Black Panther The Al...   \n",
       "19  ['thank u, next', 'WHEN WE ALL FALL ASLEEP, WH...   \n",
       "\n",
       "                                              artists top_genre  \\\n",
       "12  ['Bruno Mars', 'Carly Rae Jepsen', 'fun.', 'Ri...     'pop'   \n",
       "13  ['Justin Timberlake', 'Robin Thicke', 'Lorde',...     'pop'   \n",
       "15  ['Mark Ronson', 'Ed Sheeran', 'Wiz Khalifa', '...     'pop'   \n",
       "16  ['The Weeknd', 'Drake', 'Justin Bieber', 'The ...     'pop'   \n",
       "17  ['Ed Sheeran', 'James Arthur', 'Luis Fonsi', '...     'pop'   \n",
       "18  ['Billie Eilish', 'Kendrick Lamar', 'Imagine D...     'pop'   \n",
       "19  ['Ariana Grande', 'Billie Eilish', 'Shawn Mend...     'pop'   \n",
       "\n",
       "    average_artist_popularity  average_danceability  top_key  average_tempo  \\\n",
       "12                      78.68               0.63453        0      123.29756   \n",
       "13                      79.28               0.63060        1      117.69925   \n",
       "15                      78.89               0.64909        7      121.71692   \n",
       "16                      78.45               0.65131        7      117.18515   \n",
       "17                      81.23               0.69396       11      120.74486   \n",
       "18                      79.35               0.69650        1      118.86209   \n",
       "19                      81.16               0.71004        1      120.02957   \n",
       "\n",
       "    top_time_signature  labels  \n",
       "12                   4       1  \n",
       "13                   4       1  \n",
       "15                   4       1  \n",
       "16                   4       1  \n",
       "17                   4       1  \n",
       "18                   4       1  \n",
       "19                   4       1  "
      ]
     },
     "execution_count": 14,
     "metadata": {},
     "output_type": "execute_result"
    }
   ],
   "source": [
    "df[df['labels']==1]"
   ]
  },
  {
   "cell_type": "code",
   "execution_count": 10,
   "id": "f7ab76d7",
   "metadata": {},
   "outputs": [
    {
     "data": {
      "text/plain": [
       "0.4374976761593561"
      ]
     },
     "execution_count": 10,
     "metadata": {},
     "output_type": "execute_result"
    }
   ],
   "source": [
    "silhouette_score(X, model.fit_predict(X))"
   ]
  },
  {
   "cell_type": "code",
   "execution_count": 12,
   "id": "d2cbba2e",
   "metadata": {},
   "outputs": [
    {
     "data": {
      "text/plain": [
       "<AxesSubplot:xlabel='average_track_popularity', ylabel='average_artist_popularity'>"
      ]
     },
     "execution_count": 12,
     "metadata": {},
     "output_type": "execute_result"
    },
    {
     "data": {
      "image/png": "[encoded data removed]",
      "text/plain": [
       "<Figure size 640x480 with 1 Axes>"
      ]
     },
     "metadata": {},
     "output_type": "display_data"
    }
   ],
   "source": [
    "import seaborn as sns\n",
    "\n",
    "sns.scatterplot(data=df, x='average_track_popularity', y='average_artist_popularity', hue='labels')"
   ]
  }
 ],
 "metadata": {
  "kernelspec": {
   "display_name": "Python 3 (ipykernel)",
   "language": "python",
   "name": "python3"
  },
  "language_info": {
   "codemirror_mode": {
    "name": "ipython",
    "version": 3
   },
   "file_extension": ".py",
   "mimetype": "text/x-python",
   "name": "python",
   "nbconvert_exporter": "python",
   "pygments_lexer": "ipython3",
   "version": "3.9.13"
  }
 },
 "nbformat": 4,
 "nbformat_minor": 5
}
