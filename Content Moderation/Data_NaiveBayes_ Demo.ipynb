{
 "cells": [
  {
   "cell_type": "code",
   "execution_count": 1,
   "id": "9eb92d5a",
   "metadata": {},
   "outputs": [
    {
     "name": "stderr",
     "output_type": "stream",
     "text": [
      "C:\\ProgramData\\Anaconda3\\lib\\site-packages\\scipy\\__init__.py:155: UserWarning: A NumPy version >=1.18.5 and <1.25.0 is required for this version of SciPy (detected version 1.26.4\n",
      "  warnings.warn(f\"A NumPy version >={np_minversion} and <{np_maxversion}\"\n"
     ]
    }
   ],
   "source": [
    "import pandas as pd\n",
    "from sklearn.neighbors import KNeighborsClassifier\n",
    "from sklearn.naive_bayes import MultinomialNB\n",
    "from sklearn.feature_extraction.text import CountVectorizer\n",
    "df = pd.read_csv(\"diffusion_db_unaltered.csv\")"
   ]
  },
  {
   "cell_type": "code",
   "execution_count": 3,
   "id": "95c2f812",
   "metadata": {},
   "outputs": [
    {
     "name": "stderr",
     "output_type": "stream",
     "text": [
      "C:\\Users\\sspindt\\AppData\\Local\\Temp\\ipykernel_35228\\4009812897.py:2: SettingWithCopyWarning: \n",
      "A value is trying to be set on a copy of a slice from a DataFrame.\n",
      "Try using .loc[row_indexer,col_indexer] = value instead\n",
      "\n",
      "See the caveats in the documentation: https://pandas.pydata.org/pandas-docs/stable/user_guide/indexing.html#returning-a-view-versus-a-copy\n",
      "  df1.loc[df['prompt_nsfw'] >= 0.5, \"prompt_nsfw\"] = \"Harmful\"\n"
     ]
    }
   ],
   "source": [
    "df1 = df[:1000]\n",
    "df1.loc[df['prompt_nsfw'] >= 0.5, \"prompt_nsfw\"] = \"Harmful\"\n",
    "df1.loc[df['prompt_nsfw']  < 0.5, \"prompt_nsfw\"] = \"Harmless\""
   ]
  },
  {
   "cell_type": "code",
   "execution_count": 4,
   "id": "18962640",
   "metadata": {},
   "outputs": [],
   "source": [
    "vectorizer = CountVectorizer()\n",
    "X = vectorizer.fit_transform(df1['prompt'])"
   ]
  },
  {
   "cell_type": "code",
   "execution_count": 5,
   "id": "26738020",
   "metadata": {},
   "outputs": [],
   "source": [
    "y = df1['prompt_nsfw']"
   ]
  },
  {
   "cell_type": "code",
   "execution_count": 6,
   "id": "97ddcb3f",
   "metadata": {},
   "outputs": [],
   "source": [
    "neigh = KNeighborsClassifier(n_neighbors=11)\n",
    "clf = MultinomialNB()"
   ]
  },
  {
   "cell_type": "code",
   "execution_count": 7,
   "id": "62eeb7da",
   "metadata": {},
   "outputs": [
    {
     "data": {
      "text/plain": [
       "MultinomialNB()"
      ]
     },
     "execution_count": 7,
     "metadata": {},
     "output_type": "execute_result"
    }
   ],
   "source": [
    "# KNN Fit\n",
    "neigh.fit(X, y)\n",
    "\n",
    "# Bayes Fit\n",
    "clf.fit(X, y)"
   ]
  },
  {
   "cell_type": "code",
   "execution_count": 9,
   "id": "140c82e6",
   "metadata": {
    "collapsed": true
   },
   "outputs": [
    {
     "name": "stderr",
     "output_type": "stream",
     "text": [
      "C:\\ProgramData\\Anaconda3\\lib\\site-packages\\sklearn\\neighbors\\_classification.py:228: FutureWarning: Unlike other reduction functions (e.g. `skew`, `kurtosis`), the default behavior of `mode` typically preserves the axis it acts along. In SciPy 1.11.0, this behavior will change: the default value of `keepdims` will become False, the `axis` over which the statistic is taken will be eliminated, and the value None will no longer be accepted. Set `keepdims` to True or False to avoid this warning.\n",
      "  mode, _ = stats.mode(_y[neigh_ind, k], axis=1)\n"
     ]
    }
   ],
   "source": [
    "# Predict with KNN\n",
    "y_pred = neigh.predict(X)"
   ]
  },
  {
   "cell_type": "code",
   "execution_count": 8,
   "id": "fe6a878b",
   "metadata": {},
   "outputs": [],
   "source": [
    "# Predict with Bayes\n",
    "y_pred_bayes = clf.predict(X)"
   ]
  },
  {
   "cell_type": "code",
   "execution_count": 10,
   "id": "2f8eea67",
   "metadata": {},
   "outputs": [
    {
     "data": {
      "text/plain": [
       "array(['Harmless', 'Harmless', 'Harmless', 'Harmless', 'Harmless',\n",
       "       'Harmless', 'Harmless', 'Harmless', 'Harmless', 'Harmless',\n",
       "       'Harmless', 'Harmless', 'Harmless', 'Harmless', 'Harmless',\n",
       "       'Harmless', 'Harmless', 'Harmless', 'Harmless', 'Harmless',\n",
       "       'Harmless', 'Harmless', 'Harmless', 'Harmless', 'Harmless',\n",
       "       'Harmless', 'Harmless', 'Harmless', 'Harmless', 'Harmless',\n",
       "       'Harmless', 'Harmless', 'Harmless', 'Harmless', 'Harmless',\n",
       "       'Harmless', 'Harmless', 'Harmless', 'Harmless', 'Harmless',\n",
       "       'Harmless', 'Harmless', 'Harmless', 'Harmless', 'Harmless',\n",
       "       'Harmless', 'Harmless', 'Harmless', 'Harmless', 'Harmful',\n",
       "       'Harmless', 'Harmless', 'Harmless', 'Harmful', 'Harmful',\n",
       "       'Harmless', 'Harmless', 'Harmless', 'Harmless', 'Harmless',\n",
       "       'Harmless', 'Harmless', 'Harmful', 'Harmless', 'Harmless',\n",
       "       'Harmless', 'Harmless', 'Harmless', 'Harmless', 'Harmless',\n",
       "       'Harmless', 'Harmless', 'Harmless', 'Harmless', 'Harmless',\n",
       "       'Harmless', 'Harmless', 'Harmless', 'Harmless', 'Harmless',\n",
       "       'Harmless', 'Harmless', 'Harmful', 'Harmless', 'Harmless',\n",
       "       'Harmless', 'Harmless', 'Harmful', 'Harmless', 'Harmless',\n",
       "       'Harmless', 'Harmless', 'Harmless', 'Harmless', 'Harmless',\n",
       "       'Harmless', 'Harmless', 'Harmless', 'Harmless', 'Harmless',\n",
       "       'Harmless', 'Harmless', 'Harmless', 'Harmless', 'Harmless',\n",
       "       'Harmless', 'Harmless', 'Harmless', 'Harmless', 'Harmless',\n",
       "       'Harmless', 'Harmless', 'Harmless', 'Harmless', 'Harmless',\n",
       "       'Harmless', 'Harmless', 'Harmless', 'Harmless', 'Harmless',\n",
       "       'Harmless', 'Harmless', 'Harmless', 'Harmless', 'Harmless',\n",
       "       'Harmless', 'Harmless', 'Harmless', 'Harmless', 'Harmless',\n",
       "       'Harmless', 'Harmless', 'Harmless', 'Harmless', 'Harmless',\n",
       "       'Harmless', 'Harmless', 'Harmless', 'Harmful', 'Harmless',\n",
       "       'Harmless', 'Harmless', 'Harmless', 'Harmless', 'Harmless',\n",
       "       'Harmless', 'Harmless', 'Harmless', 'Harmless', 'Harmless',\n",
       "       'Harmless', 'Harmless', 'Harmless', 'Harmless', 'Harmless',\n",
       "       'Harmless', 'Harmless', 'Harmless', 'Harmless', 'Harmless',\n",
       "       'Harmless', 'Harmless', 'Harmless', 'Harmless', 'Harmless',\n",
       "       'Harmless', 'Harmless', 'Harmless', 'Harmless', 'Harmless',\n",
       "       'Harmless', 'Harmless', 'Harmless', 'Harmless', 'Harmless',\n",
       "       'Harmless', 'Harmless', 'Harmless', 'Harmless', 'Harmless',\n",
       "       'Harmless', 'Harmless', 'Harmless', 'Harmless', 'Harmless',\n",
       "       'Harmless', 'Harmless', 'Harmless', 'Harmless', 'Harmless',\n",
       "       'Harmless', 'Harmless', 'Harmless', 'Harmless', 'Harmless',\n",
       "       'Harmless', 'Harmless', 'Harmless', 'Harmless', 'Harmless',\n",
       "       'Harmless', 'Harmless', 'Harmless', 'Harmless', 'Harmless',\n",
       "       'Harmless', 'Harmless', 'Harmless', 'Harmless', 'Harmless',\n",
       "       'Harmless', 'Harmless', 'Harmless', 'Harmless', 'Harmless',\n",
       "       'Harmless', 'Harmless', 'Harmless', 'Harmless', 'Harmless',\n",
       "       'Harmless', 'Harmless', 'Harmless', 'Harmless', 'Harmless',\n",
       "       'Harmless', 'Harmless', 'Harmless', 'Harmless', 'Harmless',\n",
       "       'Harmless', 'Harmless', 'Harmless', 'Harmless', 'Harmless',\n",
       "       'Harmless', 'Harmless', 'Harmless', 'Harmless', 'Harmless',\n",
       "       'Harmless', 'Harmless', 'Harmless', 'Harmless', 'Harmless',\n",
       "       'Harmless', 'Harmless', 'Harmless', 'Harmless', 'Harmless',\n",
       "       'Harmless', 'Harmless', 'Harmless', 'Harmless', 'Harmless',\n",
       "       'Harmless', 'Harmless', 'Harmless', 'Harmless', 'Harmless',\n",
       "       'Harmless', 'Harmless', 'Harmless', 'Harmless', 'Harmless',\n",
       "       'Harmless', 'Harmless', 'Harmless', 'Harmless', 'Harmless',\n",
       "       'Harmless', 'Harmless', 'Harmless', 'Harmless', 'Harmless',\n",
       "       'Harmless', 'Harmless', 'Harmless', 'Harmless', 'Harmless',\n",
       "       'Harmless', 'Harmless', 'Harmless', 'Harmless', 'Harmless',\n",
       "       'Harmless', 'Harmless', 'Harmless', 'Harmless', 'Harmless',\n",
       "       'Harmless', 'Harmless', 'Harmless', 'Harmless', 'Harmless',\n",
       "       'Harmless', 'Harmless', 'Harmless', 'Harmless', 'Harmless',\n",
       "       'Harmless', 'Harmless', 'Harmless', 'Harmless', 'Harmless',\n",
       "       'Harmless', 'Harmless', 'Harmless', 'Harmless', 'Harmless',\n",
       "       'Harmless', 'Harmless', 'Harmless', 'Harmless', 'Harmless',\n",
       "       'Harmless', 'Harmless', 'Harmless', 'Harmless', 'Harmless',\n",
       "       'Harmless', 'Harmless', 'Harmless', 'Harmless', 'Harmless',\n",
       "       'Harmless', 'Harmless', 'Harmless', 'Harmless', 'Harmless',\n",
       "       'Harmless', 'Harmless', 'Harmless', 'Harmless', 'Harmless',\n",
       "       'Harmless', 'Harmless', 'Harmless', 'Harmless', 'Harmless',\n",
       "       'Harmless', 'Harmless', 'Harmless', 'Harmless', 'Harmless',\n",
       "       'Harmless', 'Harmless', 'Harmless', 'Harmless', 'Harmless',\n",
       "       'Harmless', 'Harmless', 'Harmless', 'Harmless', 'Harmless',\n",
       "       'Harmless', 'Harmless', 'Harmless', 'Harmless', 'Harmless',\n",
       "       'Harmless', 'Harmless', 'Harmless', 'Harmless', 'Harmless',\n",
       "       'Harmless', 'Harmless', 'Harmless', 'Harmless', 'Harmless',\n",
       "       'Harmless', 'Harmless', 'Harmless', 'Harmless', 'Harmless',\n",
       "       'Harmless', 'Harmless', 'Harmless', 'Harmless', 'Harmless',\n",
       "       'Harmless', 'Harmless', 'Harmless', 'Harmless', 'Harmless',\n",
       "       'Harmless', 'Harmless', 'Harmless', 'Harmless', 'Harmless',\n",
       "       'Harmless', 'Harmless', 'Harmless', 'Harmless', 'Harmless',\n",
       "       'Harmless', 'Harmless', 'Harmless', 'Harmless', 'Harmless',\n",
       "       'Harmless', 'Harmless', 'Harmless', 'Harmless', 'Harmless',\n",
       "       'Harmless', 'Harmless', 'Harmless', 'Harmless', 'Harmless',\n",
       "       'Harmless', 'Harmless', 'Harmless', 'Harmless', 'Harmless',\n",
       "       'Harmless', 'Harmless', 'Harmless', 'Harmless', 'Harmless',\n",
       "       'Harmless', 'Harmless', 'Harmless', 'Harmless', 'Harmless',\n",
       "       'Harmless', 'Harmless', 'Harmless', 'Harmless', 'Harmless',\n",
       "       'Harmless', 'Harmless', 'Harmless', 'Harmless', 'Harmless',\n",
       "       'Harmless', 'Harmless', 'Harmless', 'Harmless', 'Harmless',\n",
       "       'Harmless', 'Harmless', 'Harmless', 'Harmless', 'Harmless',\n",
       "       'Harmless', 'Harmless', 'Harmless', 'Harmless', 'Harmless',\n",
       "       'Harmless', 'Harmless', 'Harmless', 'Harmless', 'Harmless',\n",
       "       'Harmless', 'Harmless', 'Harmless', 'Harmless', 'Harmless',\n",
       "       'Harmless', 'Harmless', 'Harmless', 'Harmless', 'Harmless',\n",
       "       'Harmless', 'Harmless', 'Harmless', 'Harmless', 'Harmless',\n",
       "       'Harmless', 'Harmless', 'Harmless', 'Harmless', 'Harmless',\n",
       "       'Harmless', 'Harmless', 'Harmless', 'Harmless', 'Harmless',\n",
       "       'Harmless', 'Harmless', 'Harmless', 'Harmless', 'Harmless',\n",
       "       'Harmless', 'Harmless', 'Harmless', 'Harmless', 'Harmless',\n",
       "       'Harmless', 'Harmless', 'Harmless', 'Harmless', 'Harmless',\n",
       "       'Harmless', 'Harmless', 'Harmless', 'Harmless', 'Harmless',\n",
       "       'Harmless', 'Harmless', 'Harmless', 'Harmless', 'Harmless',\n",
       "       'Harmless', 'Harmless', 'Harmless', 'Harmless', 'Harmless',\n",
       "       'Harmless', 'Harmless', 'Harmless', 'Harmless', 'Harmless',\n",
       "       'Harmless', 'Harmless', 'Harmless', 'Harmless', 'Harmless',\n",
       "       'Harmless', 'Harmless', 'Harmless', 'Harmless', 'Harmless',\n",
       "       'Harmless', 'Harmless', 'Harmless', 'Harmless', 'Harmless',\n",
       "       'Harmless', 'Harmless', 'Harmless', 'Harmless', 'Harmless',\n",
       "       'Harmless', 'Harmless', 'Harmless', 'Harmless', 'Harmless',\n",
       "       'Harmless', 'Harmless', 'Harmless', 'Harmless', 'Harmless',\n",
       "       'Harmless', 'Harmless', 'Harmless', 'Harmless', 'Harmless',\n",
       "       'Harmless', 'Harmless', 'Harmless', 'Harmless', 'Harmless',\n",
       "       'Harmless', 'Harmless', 'Harmless', 'Harmless', 'Harmless',\n",
       "       'Harmless', 'Harmless', 'Harmless', 'Harmless', 'Harmless',\n",
       "       'Harmless', 'Harmless', 'Harmless', 'Harmless', 'Harmless',\n",
       "       'Harmless', 'Harmless', 'Harmless', 'Harmless', 'Harmless',\n",
       "       'Harmless', 'Harmless', 'Harmless', 'Harmless', 'Harmless',\n",
       "       'Harmless', 'Harmless', 'Harmless', 'Harmless', 'Harmless',\n",
       "       'Harmless', 'Harmless', 'Harmless', 'Harmless', 'Harmless',\n",
       "       'Harmless', 'Harmless', 'Harmless', 'Harmless', 'Harmless',\n",
       "       'Harmless', 'Harmless', 'Harmless', 'Harmless', 'Harmless',\n",
       "       'Harmless', 'Harmless', 'Harmless', 'Harmless', 'Harmless',\n",
       "       'Harmless', 'Harmless', 'Harmless', 'Harmless', 'Harmless',\n",
       "       'Harmless', 'Harmless', 'Harmless', 'Harmless', 'Harmless',\n",
       "       'Harmless', 'Harmless', 'Harmless', 'Harmless', 'Harmless',\n",
       "       'Harmless', 'Harmless', 'Harmless', 'Harmless', 'Harmless',\n",
       "       'Harmless', 'Harmless', 'Harmless', 'Harmless', 'Harmless',\n",
       "       'Harmless', 'Harmless', 'Harmless', 'Harmless', 'Harmless',\n",
       "       'Harmless', 'Harmless', 'Harmless', 'Harmless', 'Harmless',\n",
       "       'Harmless', 'Harmless', 'Harmless', 'Harmless', 'Harmless',\n",
       "       'Harmless', 'Harmless', 'Harmless', 'Harmless', 'Harmless',\n",
       "       'Harmless', 'Harmless', 'Harmless', 'Harmless', 'Harmless',\n",
       "       'Harmless', 'Harmless', 'Harmless', 'Harmless', 'Harmless',\n",
       "       'Harmless', 'Harmless', 'Harmless', 'Harmless', 'Harmless',\n",
       "       'Harmless', 'Harmless', 'Harmless', 'Harmless', 'Harmless',\n",
       "       'Harmless', 'Harmless', 'Harmless', 'Harmless', 'Harmless',\n",
       "       'Harmless', 'Harmless', 'Harmless', 'Harmless', 'Harmless',\n",
       "       'Harmless', 'Harmless', 'Harmless', 'Harmless', 'Harmless',\n",
       "       'Harmless', 'Harmless', 'Harmless', 'Harmless', 'Harmless',\n",
       "       'Harmful', 'Harmful', 'Harmless', 'Harmless', 'Harmless',\n",
       "       'Harmless', 'Harmless', 'Harmless', 'Harmless', 'Harmless',\n",
       "       'Harmless', 'Harmless', 'Harmless', 'Harmless', 'Harmless',\n",
       "       'Harmless', 'Harmless', 'Harmless', 'Harmless', 'Harmless',\n",
       "       'Harmless', 'Harmless', 'Harmless', 'Harmless', 'Harmless',\n",
       "       'Harmless', 'Harmless', 'Harmless', 'Harmless', 'Harmless',\n",
       "       'Harmless', 'Harmless', 'Harmless', 'Harmless', 'Harmless',\n",
       "       'Harmless', 'Harmless', 'Harmless', 'Harmless', 'Harmless',\n",
       "       'Harmless', 'Harmless', 'Harmless', 'Harmless', 'Harmless',\n",
       "       'Harmless', 'Harmless', 'Harmless', 'Harmless', 'Harmless',\n",
       "       'Harmless', 'Harmless', 'Harmless', 'Harmless', 'Harmless',\n",
       "       'Harmless', 'Harmless', 'Harmless', 'Harmless', 'Harmless',\n",
       "       'Harmless', 'Harmless', 'Harmless', 'Harmless', 'Harmless',\n",
       "       'Harmless', 'Harmless', 'Harmless', 'Harmless', 'Harmless',\n",
       "       'Harmless', 'Harmless', 'Harmless', 'Harmless', 'Harmless',\n",
       "       'Harmless', 'Harmless', 'Harmless', 'Harmless', 'Harmless',\n",
       "       'Harmless', 'Harmless', 'Harmless', 'Harmless', 'Harmless',\n",
       "       'Harmless', 'Harmless', 'Harmless', 'Harmless', 'Harmless',\n",
       "       'Harmless', 'Harmless', 'Harmless', 'Harmless', 'Harmless',\n",
       "       'Harmless', 'Harmless', 'Harmless', 'Harmless', 'Harmless',\n",
       "       'Harmless', 'Harmless', 'Harmless', 'Harmless', 'Harmless',\n",
       "       'Harmless', 'Harmless', 'Harmless', 'Harmless', 'Harmless',\n",
       "       'Harmless', 'Harmless', 'Harmless', 'Harmless', 'Harmless',\n",
       "       'Harmless', 'Harmless', 'Harmless', 'Harmless', 'Harmless',\n",
       "       'Harmless', 'Harmless', 'Harmless', 'Harmless', 'Harmless',\n",
       "       'Harmless', 'Harmless', 'Harmless', 'Harmless', 'Harmless',\n",
       "       'Harmless', 'Harmless', 'Harmless', 'Harmless', 'Harmless',\n",
       "       'Harmless', 'Harmless', 'Harmless', 'Harmless', 'Harmful',\n",
       "       'Harmless', 'Harmless', 'Harmless', 'Harmless', 'Harmless',\n",
       "       'Harmless', 'Harmless', 'Harmless', 'Harmless', 'Harmless',\n",
       "       'Harmless', 'Harmless', 'Harmless', 'Harmless', 'Harmless',\n",
       "       'Harmful', 'Harmless', 'Harmless', 'Harmless', 'Harmless',\n",
       "       'Harmless', 'Harmless', 'Harmless', 'Harmless', 'Harmless',\n",
       "       'Harmless', 'Harmless', 'Harmless', 'Harmless', 'Harmless',\n",
       "       'Harmless', 'Harmless', 'Harmless', 'Harmless', 'Harmless',\n",
       "       'Harmless', 'Harmless', 'Harmless', 'Harmless', 'Harmless',\n",
       "       'Harmless', 'Harmless', 'Harmless', 'Harmless', 'Harmless',\n",
       "       'Harmless', 'Harmless', 'Harmless', 'Harmless', 'Harmless',\n",
       "       'Harmless', 'Harmless', 'Harmless', 'Harmless', 'Harmless',\n",
       "       'Harmless', 'Harmless', 'Harmless', 'Harmless', 'Harmless',\n",
       "       'Harmless', 'Harmless', 'Harmless', 'Harmless', 'Harmless',\n",
       "       'Harmless', 'Harmless', 'Harmless', 'Harmless', 'Harmless',\n",
       "       'Harmless', 'Harmless', 'Harmless', 'Harmless', 'Harmless',\n",
       "       'Harmless', 'Harmless', 'Harmless', 'Harmless', 'Harmless',\n",
       "       'Harmless', 'Harmless', 'Harmless', 'Harmless', 'Harmless',\n",
       "       'Harmless', 'Harmless', 'Harmless', 'Harmless', 'Harmless',\n",
       "       'Harmless', 'Harmless', 'Harmless', 'Harmless', 'Harmless',\n",
       "       'Harmless', 'Harmless', 'Harmless', 'Harmless', 'Harmless',\n",
       "       'Harmless', 'Harmless', 'Harmless', 'Harmless', 'Harmless',\n",
       "       'Harmless', 'Harmless', 'Harmless', 'Harmless', 'Harmless',\n",
       "       'Harmless', 'Harmless', 'Harmless', 'Harmless', 'Harmless',\n",
       "       'Harmless', 'Harmless', 'Harmless', 'Harmless', 'Harmless',\n",
       "       'Harmless', 'Harmless', 'Harmless', 'Harmless', 'Harmless',\n",
       "       'Harmless', 'Harmless', 'Harmless', 'Harmless', 'Harmless',\n",
       "       'Harmless', 'Harmless', 'Harmless', 'Harmless', 'Harmless',\n",
       "       'Harmless', 'Harmless', 'Harmless', 'Harmless', 'Harmless',\n",
       "       'Harmless', 'Harmless', 'Harmless', 'Harmless', 'Harmless',\n",
       "       'Harmless', 'Harmless', 'Harmless', 'Harmless', 'Harmless',\n",
       "       'Harmless', 'Harmless', 'Harmless', 'Harmless', 'Harmless',\n",
       "       'Harmless', 'Harmless', 'Harmless', 'Harmless', 'Harmless',\n",
       "       'Harmless', 'Harmless', 'Harmless', 'Harmless', 'Harmless',\n",
       "       'Harmless', 'Harmless', 'Harmless', 'Harmful', 'Harmless'],\n",
       "      dtype='<U8')"
      ]
     },
     "execution_count": 10,
     "metadata": {},
     "output_type": "execute_result"
    }
   ],
   "source": [
    "y_pred_bayes"
   ]
  },
  {
   "cell_type": "code",
   "execution_count": 11,
   "id": "42dd9c5d",
   "metadata": {},
   "outputs": [
    {
     "data": {
      "text/plain": [
       "0.983"
      ]
     },
     "execution_count": 11,
     "metadata": {},
     "output_type": "execute_result"
    }
   ],
   "source": [
    "from sklearn.metrics import accuracy_score\n",
    "accuracy_score(y, y_pred_bayes)"
   ]
  },
  {
   "cell_type": "code",
   "execution_count": 12,
   "id": "41c9fce8",
   "metadata": {},
   "outputs": [
    {
     "data": {
      "text/plain": [
       "0.4974696356275304"
      ]
     },
     "execution_count": 12,
     "metadata": {},
     "output_type": "execute_result"
    }
   ],
   "source": [
    "from sklearn.metrics import precision_score\n",
    "precision_score(y, y_pred_bayes, average='macro')"
   ]
  },
  {
   "cell_type": "code",
   "execution_count": 13,
   "id": "b690eadd",
   "metadata": {},
   "outputs": [
    {
     "data": {
      "text/plain": [
       "0.49396984924623116"
      ]
     },
     "execution_count": 13,
     "metadata": {},
     "output_type": "execute_result"
    }
   ],
   "source": [
    "from sklearn.metrics import recall_score\n",
    "recall_score(y, y_pred_bayes, average='macro')"
   ]
  },
  {
   "cell_type": "code",
   "execution_count": 14,
   "id": "0ce829cc",
   "metadata": {},
   "outputs": [
    {
     "data": {
      "text/plain": [
       "0.4957135653050933"
      ]
     },
     "execution_count": 14,
     "metadata": {},
     "output_type": "execute_result"
    }
   ],
   "source": [
    "from sklearn.metrics import f1_score\n",
    "f1_score(y, y_pred_bayes, average='macro')"
   ]
  }
 ],
 "metadata": {
  "kernelspec": {
   "display_name": "Python 3 (ipykernel)",
   "language": "python",
   "name": "python3"
  },
  "language_info": {
   "codemirror_mode": {
    "name": "ipython",
    "version": 3
   },
   "file_extension": ".py",
   "mimetype": "text/x-python",
   "name": "python",
   "nbconvert_exporter": "python",
   "pygments_lexer": "ipython3",
   "version": "3.9.13"
  }
 },
 "nbformat": 4,
 "nbformat_minor": 5
}
