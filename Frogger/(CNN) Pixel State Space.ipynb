{
 "cells": [
  {
   "cell_type": "code",
   "execution_count": 1,
   "id": "37d355c8",
   "metadata": {},
   "outputs": [
    {
     "name": "stderr",
     "output_type": "stream",
     "text": [
      "C:\\ProgramData\\Anaconda3\\lib\\site-packages\\scipy\\__init__.py:155: UserWarning: A NumPy version >=1.18.5 and <1.25.0 is required for this version of SciPy (detected version 1.26.4\n",
      "  warnings.warn(f\"A NumPy version >={np_minversion} and <{np_maxversion}\"\n"
     ]
    }
   ],
   "source": [
    "import gymnasium as gym\n",
    "import keras\n",
    "import tensorflow as tf\n",
    "import cv2"
   ]
  },
  {
   "cell_type": "code",
   "execution_count": 2,
   "id": "76af5743",
   "metadata": {},
   "outputs": [],
   "source": [
    "env = gym.make('ALE/Frogger-v5')\n",
    "frame, info = env.reset()"
   ]
  },
  {
   "cell_type": "code",
   "execution_count": 15,
   "id": "24a31fb5",
   "metadata": {},
   "outputs": [
    {
     "name": "stdout",
     "output_type": "stream",
     "text": [
      "{'lives': 4, 'episode_frame_number': 0, 'frame_number': 0}\n",
      "(210, 160, 3)\n",
      "0\n",
      "45\n"
     ]
    }
   ],
   "source": [
    "print(info) # Game info\n",
    "print(frame.shape) # Num rows, num columns, num colors\n",
    "print(frame[0][0][0]) # Upper left corner (0, 0, 0)\n",
    "print(frame[209][159][2]) # Bottom right corner (82, 126, 45)"
   ]
  },
  {
   "cell_type": "code",
   "execution_count": 16,
   "id": "9d5c04dd",
   "metadata": {},
   "outputs": [],
   "source": [
    "def make_input_gray(frame):\n",
    "    gray_frame = cv2.cvtColor(frame, cv2.COLOR_RGB2GRAY)\n",
    "    return gray_frame"
   ]
  },
  {
   "cell_type": "code",
   "execution_count": 30,
   "id": "840e0180",
   "metadata": {},
   "outputs": [
    {
     "name": "stdout",
     "output_type": "stream",
     "text": [
      "(210, 160)\n",
      "150\n"
     ]
    }
   ],
   "source": [
    "frame0 = make_input_gray(frame)\n",
    "print(frame0.shape) # Num rows, num columns, num colors\n",
    "print(frame0[1][67]) # Score is (1,67), (1,68), (1,69)"
   ]
  },
  {
   "cell_type": "code",
   "execution_count": 3,
   "id": "a4b98a31",
   "metadata": {},
   "outputs": [],
   "source": [
    "# Randomly move frog 1000 times\n",
    "for i in range(1000):\n",
    "    action = env.action_space.sample()\n",
    "    observation, reward, terminated, truncated, info = env.step(action)\n",
    "    \n",
    "    if terminated or truncated:\n",
    "        observation, info = env.reset()\n",
    "\n",
    "env.close()"
   ]
  }
 ],
 "metadata": {
  "kernelspec": {
   "display_name": "Python 3 (ipykernel)",
   "language": "python",
   "name": "python3"
  },
  "language_info": {
   "codemirror_mode": {
    "name": "ipython",
    "version": 3
   },
   "file_extension": ".py",
   "mimetype": "text/x-python",
   "name": "python",
   "nbconvert_exporter": "python",
   "pygments_lexer": "ipython3",
   "version": "3.9.13"
  }
 },
 "nbformat": 4,
 "nbformat_minor": 5
}
