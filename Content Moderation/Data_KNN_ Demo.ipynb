{
 "cells": [
  {
   "cell_type": "code",
   "execution_count": 42,
   "id": "9eb92d5a",
   "metadata": {},
   "outputs": [],
   "source": [
    "import pandas as pd\n",
    "from sklearn.neighbors import KNeighborsClassifier\n",
    "from sklearn.feature_extraction.text import CountVectorizer\n",
    "df = pd.read_csv(\"diffusion_db_unaltered.csv\")"
   ]
  },
  {
   "cell_type": "code",
   "execution_count": 43,
   "id": "95c2f812",
   "metadata": {},
   "outputs": [
    {
     "name": "stderr",
     "output_type": "stream",
     "text": [
      "C:\\Users\\sspindt\\AppData\\Local\\Temp\\ipykernel_21520\\3788489200.py:3: SettingWithCopyWarning: \n",
      "A value is trying to be set on a copy of a slice from a DataFrame.\n",
      "Try using .loc[row_indexer,col_indexer] = value instead\n",
      "\n",
      "See the caveats in the documentation: https://pandas.pydata.org/pandas-docs/stable/user_guide/indexing.html#returning-a-view-versus-a-copy\n",
      "  df1.loc[df['prompt_nsfw'] >= 0.5, \"prompt_nsfw\"] = \"Harmful\"\n",
      "C:\\Users\\sspindt\\AppData\\Local\\Temp\\ipykernel_21520\\3788489200.py:5: SettingWithCopyWarning: \n",
      "A value is trying to be set on a copy of a slice from a DataFrame.\n",
      "Try using .loc[row_indexer,col_indexer] = value instead\n",
      "\n",
      "See the caveats in the documentation: https://pandas.pydata.org/pandas-docs/stable/user_guide/indexing.html#returning-a-view-versus-a-copy\n",
      "  df2.loc[df['prompt_nsfw'] >= 0.5, \"prompt_nsfw\"] = \"Harmful\"\n"
     ]
    }
   ],
   "source": [
    "df1 = df[:1000]\n",
    "df2 = df[1000:2001]\n",
    "df1.loc[df['prompt_nsfw'] >= 0.5, \"prompt_nsfw\"] = \"Harmful\"\n",
    "df1.loc[df['prompt_nsfw']  < 0.5, \"prompt_nsfw\"] = \"Harmless\"\n",
    "df2.loc[df['prompt_nsfw'] >= 0.5, \"prompt_nsfw\"] = \"Harmful\"\n",
    "df2.loc[df['prompt_nsfw']  < 0.5, \"prompt_nsfw\"] = \"Harmless\""
   ]
  },
  {
   "cell_type": "code",
   "execution_count": 34,
   "id": "0a20b6b5",
   "metadata": {},
   "outputs": [
    {
     "data": {
      "text/html": [
       "<div>\n",
       "<style scoped>\n",
       "    .dataframe tbody tr th:only-of-type {\n",
       "        vertical-align: middle;\n",
       "    }\n",
       "\n",
       "    .dataframe tbody tr th {\n",
       "        vertical-align: top;\n",
       "    }\n",
       "\n",
       "    .dataframe thead th {\n",
       "        text-align: right;\n",
       "    }\n",
       "</style>\n",
       "<table border=\"1\" class=\"dataframe\">\n",
       "  <thead>\n",
       "    <tr style=\"text-align: right;\">\n",
       "      <th></th>\n",
       "      <th>prompt</th>\n",
       "      <th>image_nsfw</th>\n",
       "      <th>prompt_nsfw</th>\n",
       "    </tr>\n",
       "  </thead>\n",
       "  <tbody>\n",
       "    <tr>\n",
       "      <th>1000</th>\n",
       "      <td>woman with curly black hair tied in a bun wear...</td>\n",
       "      <td>0.150862</td>\n",
       "      <td>Harmless</td>\n",
       "    </tr>\n",
       "    <tr>\n",
       "      <th>1001</th>\n",
       "      <td>bud light can 1 2 oz</td>\n",
       "      <td>0.069691</td>\n",
       "      <td>Harmless</td>\n",
       "    </tr>\n",
       "    <tr>\n",
       "      <th>1002</th>\n",
       "      <td>painting. digital art. young woman wearing an ...</td>\n",
       "      <td>0.061057</td>\n",
       "      <td>Harmless</td>\n",
       "    </tr>\n",
       "    <tr>\n",
       "      <th>1003</th>\n",
       "      <td>highly detailed portrait of young emma watson ...</td>\n",
       "      <td>0.135490</td>\n",
       "      <td>Harmless</td>\n",
       "    </tr>\n",
       "    <tr>\n",
       "      <th>1004</th>\n",
       "      <td>yoji shinkawa painting of a stylish sniper demon</td>\n",
       "      <td>2.000000</td>\n",
       "      <td>Harmless</td>\n",
       "    </tr>\n",
       "  </tbody>\n",
       "</table>\n",
       "</div>"
      ],
      "text/plain": [
       "                                                 prompt  image_nsfw  \\\n",
       "1000  woman with curly black hair tied in a bun wear...    0.150862   \n",
       "1001                              bud light can 1 2 oz     0.069691   \n",
       "1002  painting. digital art. young woman wearing an ...    0.061057   \n",
       "1003  highly detailed portrait of young emma watson ...    0.135490   \n",
       "1004  yoji shinkawa painting of a stylish sniper demon     2.000000   \n",
       "\n",
       "     prompt_nsfw  \n",
       "1000    Harmless  \n",
       "1001    Harmless  \n",
       "1002    Harmless  \n",
       "1003    Harmless  \n",
       "1004    Harmless  "
      ]
     },
     "execution_count": 34,
     "metadata": {},
     "output_type": "execute_result"
    }
   ],
   "source": [
    "df2.head()"
   ]
  },
  {
   "cell_type": "code",
   "execution_count": 44,
   "id": "18962640",
   "metadata": {},
   "outputs": [],
   "source": [
    "vectorizer = CountVectorizer()\n",
    "X = vectorizer.fit_transform(df1['prompt'])"
   ]
  },
  {
   "cell_type": "code",
   "execution_count": 45,
   "id": "26738020",
   "metadata": {},
   "outputs": [],
   "source": [
    "y = df1['prompt_nsfw']"
   ]
  },
  {
   "cell_type": "code",
   "execution_count": 46,
   "id": "97ddcb3f",
   "metadata": {},
   "outputs": [],
   "source": [
    "neigh = KNeighborsClassifier(n_neighbors=11)"
   ]
  },
  {
   "cell_type": "code",
   "execution_count": 47,
   "id": "62eeb7da",
   "metadata": {},
   "outputs": [
    {
     "data": {
      "text/plain": [
       "KNeighborsClassifier(n_neighbors=11)"
      ]
     },
     "execution_count": 47,
     "metadata": {},
     "output_type": "execute_result"
    }
   ],
   "source": [
    "neigh.fit(X, y)"
   ]
  },
  {
   "cell_type": "code",
   "execution_count": 48,
   "id": "fe6a878b",
   "metadata": {},
   "outputs": [
    {
     "name": "stderr",
     "output_type": "stream",
     "text": [
      "C:\\ProgramData\\Anaconda3\\lib\\site-packages\\sklearn\\neighbors\\_classification.py:228: FutureWarning: Unlike other reduction functions (e.g. `skew`, `kurtosis`), the default behavior of `mode` typically preserves the axis it acts along. In SciPy 1.11.0, this behavior will change: the default value of `keepdims` will become False, the `axis` over which the statistic is taken will be eliminated, and the value None will no longer be accepted. Set `keepdims` to True or False to avoid this warning.\n",
      "  mode, _ = stats.mode(_y[neigh_ind, k], axis=1)\n"
     ]
    }
   ],
   "source": [
    "X2 = vectorizer.fit_transform(df2['prompt'])\n",
    "y_pred = neigh.predict(X)"
   ]
  },
  {
   "cell_type": "code",
   "execution_count": 49,
   "id": "2f8eea67",
   "metadata": {},
   "outputs": [
    {
     "data": {
      "text/plain": [
       "array(['Harmless', 'Harmless', 'Harmless', 'Harmless', 'Harmless',\n",
       "       'Harmless', 'Harmless', 'Harmless', 'Harmless', 'Harmless',\n",
       "       'Harmless', 'Harmless', 'Harmless', 'Harmless', 'Harmless',\n",
       "       'Harmless', 'Harmless', 'Harmless', 'Harmless', 'Harmless',\n",
       "       'Harmless', 'Harmless', 'Harmless', 'Harmless', 'Harmless',\n",
       "       'Harmless', 'Harmless', 'Harmless', 'Harmless', 'Harmless',\n",
       "       'Harmless', 'Harmless', 'Harmless', 'Harmless', 'Harmless',\n",
       "       'Harmless', 'Harmless', 'Harmless', 'Harmless', 'Harmless',\n",
       "       'Harmless', 'Harmless', 'Harmless', 'Harmless', 'Harmless',\n",
       "       'Harmless', 'Harmless', 'Harmless', 'Harmless', 'Harmless',\n",
       "       'Harmless', 'Harmless', 'Harmless', 'Harmless', 'Harmless',\n",
       "       'Harmless', 'Harmless', 'Harmless', 'Harmless', 'Harmless',\n",
       "       'Harmless', 'Harmless', 'Harmless', 'Harmless', 'Harmless',\n",
       "       'Harmless', 'Harmless', 'Harmless', 'Harmless', 'Harmless',\n",
       "       'Harmless', 'Harmless', 'Harmless', 'Harmless', 'Harmless',\n",
       "       'Harmless', 'Harmless', 'Harmless', 'Harmless', 'Harmless',\n",
       "       'Harmless', 'Harmless', 'Harmless', 'Harmless', 'Harmless',\n",
       "       'Harmless', 'Harmless', 'Harmless', 'Harmless', 'Harmless',\n",
       "       'Harmless', 'Harmless', 'Harmless', 'Harmless', 'Harmless',\n",
       "       'Harmless', 'Harmless', 'Harmless', 'Harmless', 'Harmless',\n",
       "       'Harmless', 'Harmless', 'Harmless', 'Harmless', 'Harmless',\n",
       "       'Harmless', 'Harmless', 'Harmless', 'Harmless', 'Harmless',\n",
       "       'Harmless', 'Harmless', 'Harmless', 'Harmless', 'Harmless',\n",
       "       'Harmless', 'Harmless', 'Harmless', 'Harmless', 'Harmless',\n",
       "       'Harmless', 'Harmless', 'Harmless', 'Harmless', 'Harmless',\n",
       "       'Harmless', 'Harmless', 'Harmless', 'Harmless', 'Harmless',\n",
       "       'Harmless', 'Harmless', 'Harmless', 'Harmless', 'Harmless',\n",
       "       'Harmless', 'Harmless', 'Harmless', 'Harmless', 'Harmless',\n",
       "       'Harmless', 'Harmless', 'Harmless', 'Harmless', 'Harmless',\n",
       "       'Harmless', 'Harmless', 'Harmless', 'Harmless', 'Harmless',\n",
       "       'Harmless', 'Harmless', 'Harmless', 'Harmless', 'Harmless',\n",
       "       'Harmless', 'Harmless', 'Harmless', 'Harmless', 'Harmless',\n",
       "       'Harmless', 'Harmless', 'Harmless', 'Harmless', 'Harmless',\n",
       "       'Harmless', 'Harmless', 'Harmless', 'Harmless', 'Harmless',\n",
       "       'Harmless', 'Harmless', 'Harmless', 'Harmless', 'Harmless',\n",
       "       'Harmless', 'Harmless', 'Harmless', 'Harmless', 'Harmless',\n",
       "       'Harmless', 'Harmless', 'Harmless', 'Harmless', 'Harmless',\n",
       "       'Harmless', 'Harmless', 'Harmless', 'Harmless', 'Harmless',\n",
       "       'Harmless', 'Harmless', 'Harmless', 'Harmless', 'Harmless',\n",
       "       'Harmless', 'Harmless', 'Harmless', 'Harmless', 'Harmless',\n",
       "       'Harmless', 'Harmless', 'Harmless', 'Harmless', 'Harmless',\n",
       "       'Harmless', 'Harmless', 'Harmless', 'Harmless', 'Harmless',\n",
       "       'Harmless', 'Harmless', 'Harmless', 'Harmless', 'Harmless',\n",
       "       'Harmless', 'Harmless', 'Harmless', 'Harmless', 'Harmless',\n",
       "       'Harmless', 'Harmless', 'Harmless', 'Harmless', 'Harmless',\n",
       "       'Harmless', 'Harmless', 'Harmless', 'Harmless', 'Harmless',\n",
       "       'Harmless', 'Harmless', 'Harmless', 'Harmless', 'Harmless',\n",
       "       'Harmless', 'Harmless', 'Harmless', 'Harmless', 'Harmless',\n",
       "       'Harmless', 'Harmless', 'Harmless', 'Harmless', 'Harmless',\n",
       "       'Harmless', 'Harmless', 'Harmless', 'Harmless', 'Harmless',\n",
       "       'Harmless', 'Harmless', 'Harmless', 'Harmless', 'Harmless',\n",
       "       'Harmless', 'Harmless', 'Harmless', 'Harmless', 'Harmless',\n",
       "       'Harmless', 'Harmless', 'Harmless', 'Harmless', 'Harmless',\n",
       "       'Harmless', 'Harmless', 'Harmless', 'Harmless', 'Harmless',\n",
       "       'Harmless', 'Harmless', 'Harmless', 'Harmless', 'Harmless',\n",
       "       'Harmless', 'Harmless', 'Harmless', 'Harmless', 'Harmless',\n",
       "       'Harmless', 'Harmless', 'Harmless', 'Harmless', 'Harmless',\n",
       "       'Harmless', 'Harmless', 'Harmless', 'Harmless', 'Harmless',\n",
       "       'Harmless', 'Harmless', 'Harmless', 'Harmless', 'Harmless',\n",
       "       'Harmless', 'Harmless', 'Harmless', 'Harmless', 'Harmless',\n",
       "       'Harmless', 'Harmless', 'Harmless', 'Harmless', 'Harmless',\n",
       "       'Harmless', 'Harmless', 'Harmless', 'Harmless', 'Harmless',\n",
       "       'Harmless', 'Harmless', 'Harmless', 'Harmless', 'Harmless',\n",
       "       'Harmless', 'Harmless', 'Harmless', 'Harmless', 'Harmless',\n",
       "       'Harmless', 'Harmless', 'Harmless', 'Harmless', 'Harmless',\n",
       "       'Harmless', 'Harmless', 'Harmless', 'Harmless', 'Harmless',\n",
       "       'Harmless', 'Harmless', 'Harmless', 'Harmless', 'Harmless',\n",
       "       'Harmless', 'Harmless', 'Harmless', 'Harmless', 'Harmless',\n",
       "       'Harmless', 'Harmless', 'Harmless', 'Harmless', 'Harmless',\n",
       "       'Harmless', 'Harmless', 'Harmless', 'Harmless', 'Harmless',\n",
       "       'Harmless', 'Harmless', 'Harmless', 'Harmless', 'Harmless',\n",
       "       'Harmless', 'Harmless', 'Harmless', 'Harmless', 'Harmless',\n",
       "       'Harmless', 'Harmless', 'Harmless', 'Harmless', 'Harmless',\n",
       "       'Harmless', 'Harmless', 'Harmless', 'Harmless', 'Harmless',\n",
       "       'Harmless', 'Harmless', 'Harmless', 'Harmless', 'Harmless',\n",
       "       'Harmless', 'Harmless', 'Harmless', 'Harmless', 'Harmless',\n",
       "       'Harmless', 'Harmless', 'Harmless', 'Harmless', 'Harmless',\n",
       "       'Harmless', 'Harmless', 'Harmless', 'Harmless', 'Harmless',\n",
       "       'Harmless', 'Harmless', 'Harmless', 'Harmless', 'Harmless',\n",
       "       'Harmless', 'Harmless', 'Harmless', 'Harmless', 'Harmless',\n",
       "       'Harmless', 'Harmless', 'Harmless', 'Harmless', 'Harmless',\n",
       "       'Harmless', 'Harmless', 'Harmless', 'Harmless', 'Harmless',\n",
       "       'Harmless', 'Harmless', 'Harmless', 'Harmless', 'Harmless',\n",
       "       'Harmless', 'Harmless', 'Harmless', 'Harmless', 'Harmless',\n",
       "       'Harmless', 'Harmless', 'Harmless', 'Harmless', 'Harmless',\n",
       "       'Harmless', 'Harmless', 'Harmless', 'Harmless', 'Harmless',\n",
       "       'Harmless', 'Harmless', 'Harmless', 'Harmless', 'Harmless',\n",
       "       'Harmless', 'Harmless', 'Harmless', 'Harmless', 'Harmless',\n",
       "       'Harmless', 'Harmless', 'Harmless', 'Harmless', 'Harmless',\n",
       "       'Harmless', 'Harmless', 'Harmless', 'Harmless', 'Harmless',\n",
       "       'Harmless', 'Harmless', 'Harmless', 'Harmless', 'Harmless',\n",
       "       'Harmless', 'Harmless', 'Harmless', 'Harmless', 'Harmless',\n",
       "       'Harmless', 'Harmless', 'Harmless', 'Harmless', 'Harmless',\n",
       "       'Harmless', 'Harmless', 'Harmless', 'Harmless', 'Harmless',\n",
       "       'Harmless', 'Harmless', 'Harmless', 'Harmless', 'Harmless',\n",
       "       'Harmless', 'Harmless', 'Harmless', 'Harmless', 'Harmless',\n",
       "       'Harmless', 'Harmless', 'Harmless', 'Harmless', 'Harmless',\n",
       "       'Harmless', 'Harmless', 'Harmless', 'Harmless', 'Harmless',\n",
       "       'Harmless', 'Harmless', 'Harmless', 'Harmless', 'Harmless',\n",
       "       'Harmless', 'Harmless', 'Harmless', 'Harmless', 'Harmless',\n",
       "       'Harmless', 'Harmless', 'Harmless', 'Harmless', 'Harmless',\n",
       "       'Harmless', 'Harmless', 'Harmless', 'Harmless', 'Harmless',\n",
       "       'Harmless', 'Harmless', 'Harmless', 'Harmless', 'Harmless',\n",
       "       'Harmless', 'Harmless', 'Harmless', 'Harmless', 'Harmless',\n",
       "       'Harmless', 'Harmless', 'Harmless', 'Harmless', 'Harmless',\n",
       "       'Harmless', 'Harmless', 'Harmless', 'Harmless', 'Harmless',\n",
       "       'Harmless', 'Harmless', 'Harmless', 'Harmless', 'Harmless',\n",
       "       'Harmless', 'Harmless', 'Harmless', 'Harmless', 'Harmless',\n",
       "       'Harmless', 'Harmless', 'Harmless', 'Harmless', 'Harmless',\n",
       "       'Harmless', 'Harmless', 'Harmless', 'Harmless', 'Harmless',\n",
       "       'Harmless', 'Harmless', 'Harmless', 'Harmless', 'Harmless',\n",
       "       'Harmless', 'Harmless', 'Harmless', 'Harmless', 'Harmless',\n",
       "       'Harmless', 'Harmless', 'Harmless', 'Harmless', 'Harmless',\n",
       "       'Harmless', 'Harmless', 'Harmless', 'Harmless', 'Harmless',\n",
       "       'Harmless', 'Harmless', 'Harmless', 'Harmless', 'Harmless',\n",
       "       'Harmless', 'Harmless', 'Harmless', 'Harmless', 'Harmless',\n",
       "       'Harmless', 'Harmless', 'Harmless', 'Harmless', 'Harmless',\n",
       "       'Harmless', 'Harmless', 'Harmless', 'Harmless', 'Harmless',\n",
       "       'Harmless', 'Harmless', 'Harmless', 'Harmless', 'Harmless',\n",
       "       'Harmless', 'Harmless', 'Harmless', 'Harmless', 'Harmless',\n",
       "       'Harmless', 'Harmless', 'Harmless', 'Harmless', 'Harmless',\n",
       "       'Harmless', 'Harmless', 'Harmless', 'Harmless', 'Harmless',\n",
       "       'Harmless', 'Harmless', 'Harmless', 'Harmless', 'Harmless',\n",
       "       'Harmless', 'Harmless', 'Harmless', 'Harmless', 'Harmless',\n",
       "       'Harmless', 'Harmless', 'Harmless', 'Harmless', 'Harmless',\n",
       "       'Harmless', 'Harmless', 'Harmless', 'Harmless', 'Harmless',\n",
       "       'Harmless', 'Harmless', 'Harmless', 'Harmless', 'Harmless',\n",
       "       'Harmless', 'Harmless', 'Harmless', 'Harmless', 'Harmless',\n",
       "       'Harmless', 'Harmless', 'Harmless', 'Harmless', 'Harmless',\n",
       "       'Harmless', 'Harmless', 'Harmless', 'Harmless', 'Harmless',\n",
       "       'Harmless', 'Harmless', 'Harmless', 'Harmless', 'Harmless',\n",
       "       'Harmless', 'Harmless', 'Harmless', 'Harmless', 'Harmless',\n",
       "       'Harmless', 'Harmless', 'Harmless', 'Harmless', 'Harmless',\n",
       "       'Harmless', 'Harmless', 'Harmless', 'Harmless', 'Harmless',\n",
       "       'Harmless', 'Harmless', 'Harmless', 'Harmless', 'Harmless',\n",
       "       'Harmless', 'Harmless', 'Harmless', 'Harmless', 'Harmless',\n",
       "       'Harmless', 'Harmless', 'Harmless', 'Harmless', 'Harmless',\n",
       "       'Harmless', 'Harmless', 'Harmless', 'Harmless', 'Harmless',\n",
       "       'Harmless', 'Harmless', 'Harmless', 'Harmless', 'Harmless',\n",
       "       'Harmless', 'Harmless', 'Harmless', 'Harmless', 'Harmless',\n",
       "       'Harmless', 'Harmless', 'Harmless', 'Harmless', 'Harmless',\n",
       "       'Harmless', 'Harmless', 'Harmless', 'Harmless', 'Harmless',\n",
       "       'Harmless', 'Harmless', 'Harmless', 'Harmless', 'Harmless',\n",
       "       'Harmless', 'Harmless', 'Harmless', 'Harmless', 'Harmless',\n",
       "       'Harmless', 'Harmless', 'Harmless', 'Harmless', 'Harmless',\n",
       "       'Harmless', 'Harmless', 'Harmless', 'Harmless', 'Harmless',\n",
       "       'Harmless', 'Harmless', 'Harmless', 'Harmless', 'Harmless',\n",
       "       'Harmless', 'Harmless', 'Harmless', 'Harmless', 'Harmless',\n",
       "       'Harmless', 'Harmless', 'Harmless', 'Harmless', 'Harmless',\n",
       "       'Harmless', 'Harmless', 'Harmless', 'Harmless', 'Harmless',\n",
       "       'Harmless', 'Harmless', 'Harmless', 'Harmless', 'Harmless',\n",
       "       'Harmless', 'Harmless', 'Harmless', 'Harmless', 'Harmless',\n",
       "       'Harmless', 'Harmless', 'Harmless', 'Harmless', 'Harmless',\n",
       "       'Harmless', 'Harmless', 'Harmless', 'Harmless', 'Harmless',\n",
       "       'Harmless', 'Harmless', 'Harmless', 'Harmless', 'Harmless',\n",
       "       'Harmless', 'Harmless', 'Harmless', 'Harmless', 'Harmless',\n",
       "       'Harmless', 'Harmless', 'Harmless', 'Harmless', 'Harmless',\n",
       "       'Harmless', 'Harmless', 'Harmless', 'Harmless', 'Harmless',\n",
       "       'Harmless', 'Harmless', 'Harmless', 'Harmless', 'Harmless',\n",
       "       'Harmless', 'Harmless', 'Harmless', 'Harmless', 'Harmless',\n",
       "       'Harmless', 'Harmless', 'Harmless', 'Harmless', 'Harmless',\n",
       "       'Harmless', 'Harmless', 'Harmless', 'Harmless', 'Harmless',\n",
       "       'Harmless', 'Harmless', 'Harmless', 'Harmless', 'Harmless',\n",
       "       'Harmless', 'Harmless', 'Harmless', 'Harmless', 'Harmless',\n",
       "       'Harmless', 'Harmless', 'Harmless', 'Harmless', 'Harmless',\n",
       "       'Harmless', 'Harmless', 'Harmless', 'Harmless', 'Harmless',\n",
       "       'Harmless', 'Harmless', 'Harmless', 'Harmless', 'Harmless',\n",
       "       'Harmless', 'Harmless', 'Harmless', 'Harmless', 'Harmless',\n",
       "       'Harmless', 'Harmless', 'Harmless', 'Harmless', 'Harmless',\n",
       "       'Harmless', 'Harmless', 'Harmless', 'Harmless', 'Harmless',\n",
       "       'Harmless', 'Harmless', 'Harmless', 'Harmless', 'Harmless',\n",
       "       'Harmless', 'Harmless', 'Harmless', 'Harmless', 'Harmless',\n",
       "       'Harmless', 'Harmless', 'Harmless', 'Harmless', 'Harmless',\n",
       "       'Harmless', 'Harmless', 'Harmless', 'Harmless', 'Harmless',\n",
       "       'Harmless', 'Harmless', 'Harmless', 'Harmless', 'Harmless',\n",
       "       'Harmless', 'Harmless', 'Harmless', 'Harmless', 'Harmless',\n",
       "       'Harmless', 'Harmless', 'Harmless', 'Harmless', 'Harmless',\n",
       "       'Harmless', 'Harmless', 'Harmless', 'Harmless', 'Harmless',\n",
       "       'Harmless', 'Harmless', 'Harmless', 'Harmless', 'Harmless',\n",
       "       'Harmless', 'Harmless', 'Harmless', 'Harmless', 'Harmless',\n",
       "       'Harmless', 'Harmless', 'Harmless', 'Harmless', 'Harmless',\n",
       "       'Harmless', 'Harmless', 'Harmless', 'Harmless', 'Harmless',\n",
       "       'Harmless', 'Harmless', 'Harmless', 'Harmless', 'Harmless',\n",
       "       'Harmless', 'Harmless', 'Harmless', 'Harmless', 'Harmless',\n",
       "       'Harmless', 'Harmless', 'Harmless', 'Harmless', 'Harmless',\n",
       "       'Harmless', 'Harmless', 'Harmless', 'Harmless', 'Harmless',\n",
       "       'Harmless', 'Harmless', 'Harmless', 'Harmless', 'Harmless',\n",
       "       'Harmless', 'Harmless', 'Harmless', 'Harmless', 'Harmless',\n",
       "       'Harmless', 'Harmless', 'Harmless', 'Harmless', 'Harmless',\n",
       "       'Harmless', 'Harmless', 'Harmless', 'Harmless', 'Harmless',\n",
       "       'Harmless', 'Harmless', 'Harmless', 'Harmless', 'Harmless',\n",
       "       'Harmless', 'Harmless', 'Harmless', 'Harmless', 'Harmless',\n",
       "       'Harmless', 'Harmless', 'Harmless', 'Harmless', 'Harmless',\n",
       "       'Harmless', 'Harmless', 'Harmless', 'Harmless', 'Harmless',\n",
       "       'Harmless', 'Harmless', 'Harmless', 'Harmless', 'Harmless',\n",
       "       'Harmless', 'Harmless', 'Harmless', 'Harmless', 'Harmless',\n",
       "       'Harmless', 'Harmless', 'Harmless', 'Harmless', 'Harmless',\n",
       "       'Harmless', 'Harmless', 'Harmless', 'Harmless', 'Harmless',\n",
       "       'Harmless', 'Harmless', 'Harmless', 'Harmless', 'Harmless',\n",
       "       'Harmless', 'Harmless', 'Harmless', 'Harmless', 'Harmless'],\n",
       "      dtype=object)"
      ]
     },
     "execution_count": 49,
     "metadata": {},
     "output_type": "execute_result"
    }
   ],
   "source": [
    "y_pred"
   ]
  },
  {
   "cell_type": "code",
   "execution_count": 50,
   "id": "42dd9c5d",
   "metadata": {},
   "outputs": [
    {
     "data": {
      "text/plain": [
       "0.995"
      ]
     },
     "execution_count": 50,
     "metadata": {},
     "output_type": "execute_result"
    }
   ],
   "source": [
    "from sklearn.metrics import accuracy_score\n",
    "accuracy_score(y, y_pred)"
   ]
  },
  {
   "cell_type": "code",
   "execution_count": 51,
   "id": "41c9fce8",
   "metadata": {},
   "outputs": [
    {
     "name": "stderr",
     "output_type": "stream",
     "text": [
      "C:\\ProgramData\\Anaconda3\\lib\\site-packages\\sklearn\\metrics\\_classification.py:1318: UndefinedMetricWarning: Precision is ill-defined and being set to 0.0 in labels with no predicted samples. Use `zero_division` parameter to control this behavior.\n",
      "  _warn_prf(average, modifier, msg_start, len(result))\n"
     ]
    },
    {
     "data": {
      "text/plain": [
       "0.4975"
      ]
     },
     "execution_count": 51,
     "metadata": {},
     "output_type": "execute_result"
    }
   ],
   "source": [
    "from sklearn.metrics import precision_score\n",
    "precision_score(y, y_pred, average='macro')"
   ]
  },
  {
   "cell_type": "code",
   "execution_count": 52,
   "id": "b690eadd",
   "metadata": {},
   "outputs": [
    {
     "data": {
      "text/plain": [
       "0.5"
      ]
     },
     "execution_count": 52,
     "metadata": {},
     "output_type": "execute_result"
    }
   ],
   "source": [
    "from sklearn.metrics import recall_score\n",
    "recall_score(y, y_pred, average='macro')"
   ]
  },
  {
   "cell_type": "code",
   "execution_count": 53,
   "id": "0ce829cc",
   "metadata": {},
   "outputs": [
    {
     "data": {
      "text/plain": [
       "0.49874686716791977"
      ]
     },
     "execution_count": 53,
     "metadata": {},
     "output_type": "execute_result"
    }
   ],
   "source": [
    "from sklearn.metrics import f1_score\n",
    "f1_score(y, y_pred, average='macro')"
   ]
  }
 ],
 "metadata": {
  "kernelspec": {
   "display_name": "Python 3 (ipykernel)",
   "language": "python",
   "name": "python3"
  },
  "language_info": {
   "codemirror_mode": {
    "name": "ipython",
    "version": 3
   },
   "file_extension": ".py",
   "mimetype": "text/x-python",
   "name": "python",
   "nbconvert_exporter": "python",
   "pygments_lexer": "ipython3",
   "version": "3.9.13"
  }
 },
 "nbformat": 4,
 "nbformat_minor": 5
}
