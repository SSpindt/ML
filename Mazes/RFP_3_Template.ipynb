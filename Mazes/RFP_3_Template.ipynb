{
 "cells": [
  {
   "cell_type": "markdown",
   "id": "fdb73e9d",
   "metadata": {},
   "source": [
    "# RFP: Maze Solvers\n",
    "\n",
    "## Project Overview\n",
    "You are invited to submit a proposal that answers the following question:\n",
    "\n",
    "### What path will your elf take?\n",
    "\n",
    "*Please submit your proposal by **2/11/25 at 11:59 PM**.*"
   ]
  },
  {
   "cell_type": "markdown",
   "id": "d88b6a60",
   "metadata": {},
   "source": [
    "## Required Proposal Components\n",
    "\n",
    "### 1. Data Description\n",
    "In the code cell below, use [Gymnasium](https://gymnasium.farama.org/) to set up a [Frozen Lake maze](https://gymnasium.farama.org/environments/toy_text/frozen_lake/) for your project. When you are done with the set up, describe the reward system you plan on using.\n",
    "\n",
    "*Note, a level 5 maze is at least 10 x 10 cells large and contains at least five lake cells.*"
   ]
  },
  {
   "cell_type": "code",
   "execution_count": 116,
   "id": "8744bf04",
   "metadata": {},
   "outputs": [],
   "source": [
    "import gymnasium as gym\n",
    "import pandas as pd\n",
    "import random"
   ]
  },
  {
   "cell_type": "code",
   "execution_count": 136,
   "id": "34314a12",
   "metadata": {},
   "outputs": [],
   "source": [
    "# Make small test maze\n",
    "maze=[\"SF\", \"FH\", \"FG\"]\n",
    "env = gym.make('FrozenLake-v1', desc=maze, render_mode='human', is_slippery=False)\n",
    "initial_state = env.reset()\n",
    "env.render()"
   ]
  },
  {
   "cell_type": "markdown",
   "id": "c38ed9f9",
   "metadata": {},
   "source": [
    "# My Reward System:\n",
    "- +100 for gift\n",
    "- -1 for empty space\n",
    "- -100 for lake"
   ]
  },
  {
   "cell_type": "markdown",
   "id": "67f80b3f",
   "metadata": {},
   "source": [
    "### 2. Training Your Model\n",
    "In the cell seen below, write the code you need to train a Q-Learning model. Display your final Q-table once you are done training your model.\n",
    "\n",
    "*Note, level 5 work uses only the standard Python library and Pandas to train your Q-Learning model. A level 4 uses external libraries like Baseline3.*"
   ]
  },
  {
   "cell_type": "code",
   "execution_count": 137,
   "id": "73e62305",
   "metadata": {},
   "outputs": [],
   "source": [
    "# Set up q-table\n",
    "    # key is the state of cell\n",
    "    # index of list is the action\n",
    "        # Left: 0, Down: 1, 2: Right, 3: Up\n",
    "\n",
    "q = {\n",
    "    0: [0,0,0,0], \n",
    "    1: [0,0,0,0], \n",
    "    2: [0,0,0,0], \n",
    "    3: [0,0,0,0],\n",
    "    4: [0,0,0,0],\n",
    "    5: [0,0,0,0]\n",
    "}"
   ]
  },
  {
   "cell_type": "code",
   "execution_count": 138,
   "id": "57c59b0d",
   "metadata": {},
   "outputs": [],
   "source": [
    "# Create my own reward system\n",
    "cell_types =[\"S\", \"F\", \"F\", \"H\", \"F\", \"G\"]\n",
    "\n",
    "def getReward(state):\n",
    "    if cell_types[state] == \"G\":\n",
    "        return 100\n",
    "    elif cell_types[state] == \"H\":\n",
    "        return -100\n",
    "    else:\n",
    "        return -1"
   ]
  },
  {
   "cell_type": "code",
   "execution_count": 139,
   "id": "a7810b34",
   "metadata": {},
   "outputs": [],
   "source": [
    "# This function uses the Bellman Equation to update the q-table: \n",
    "    # new_q = (1-alpha) * q(s, a) + alpha * (R + gamma(max(q(s`, a`))))\n",
    "def updateQTable(q, alpha, gamma, current_state, next_state, action):\n",
    "    current_q = q[current_state][action]\n",
    "    reward = getReward(next_state)\n",
    "    next_state_row = [q[next_state][0], q[next_state][1], q[next_state][2], q[next_state][3]] \n",
    "    next_max_q = max(next_state_row)\n",
    "    new_q = ((1-alpha) * current_q) + (alpha * (reward + (gamma * next_max_q)))\n",
    "    q[current_state][action] = new_q"
   ]
  },
  {
   "cell_type": "code",
   "execution_count": 140,
   "id": "1428ec40",
   "metadata": {},
   "outputs": [],
   "source": [
    "# Train Q-Model for 1000 episodes\n",
    "# All actions are random\n",
    "current_state = 0\n",
    "alpha = 0.2\n",
    "gamma = 0.8\n",
    "for episode in range(100):\n",
    "    while not terminated:\n",
    "        action = random.randint(0, 3)\n",
    "        new_state, reward, terminated, truncated, info = env.step(action)\n",
    "        updateQTable(q, alpha, gamma, current_state, new_state, action)\n",
    "        current_state = new_state\n",
    "    inital = env.reset()\n",
    "    terminated = False"
   ]
  },
  {
   "cell_type": "code",
   "execution_count": 141,
   "id": "75cdbf2b",
   "metadata": {},
   "outputs": [
    {
     "data": {
      "text/html": [
       "<div>\n",
       "<style scoped>\n",
       "    .dataframe tbody tr th:only-of-type {\n",
       "        vertical-align: middle;\n",
       "    }\n",
       "\n",
       "    .dataframe tbody tr th {\n",
       "        vertical-align: top;\n",
       "    }\n",
       "\n",
       "    .dataframe thead th {\n",
       "        text-align: right;\n",
       "    }\n",
       "</style>\n",
       "<table border=\"1\" class=\"dataframe\">\n",
       "  <thead>\n",
       "    <tr style=\"text-align: right;\">\n",
       "      <th></th>\n",
       "      <th>Left</th>\n",
       "      <th>Down</th>\n",
       "      <th>Right</th>\n",
       "      <th>Up</th>\n",
       "    </tr>\n",
       "  </thead>\n",
       "  <tbody>\n",
       "    <tr>\n",
       "      <th>0</th>\n",
       "      <td>50.297644</td>\n",
       "      <td>66.548221</td>\n",
       "      <td>36.046703</td>\n",
       "      <td>50.640257</td>\n",
       "    </tr>\n",
       "    <tr>\n",
       "      <th>1</th>\n",
       "      <td>48.415201</td>\n",
       "      <td>-55.658352</td>\n",
       "      <td>33.063131</td>\n",
       "      <td>33.650962</td>\n",
       "    </tr>\n",
       "    <tr>\n",
       "      <th>2</th>\n",
       "      <td>64.823720</td>\n",
       "      <td>90.827069</td>\n",
       "      <td>-58.151265</td>\n",
       "      <td>46.669508</td>\n",
       "    </tr>\n",
       "    <tr>\n",
       "      <th>3</th>\n",
       "      <td>42.348715</td>\n",
       "      <td>57.457156</td>\n",
       "      <td>32.392268</td>\n",
       "      <td>44.622511</td>\n",
       "    </tr>\n",
       "    <tr>\n",
       "      <th>4</th>\n",
       "      <td>73.125095</td>\n",
       "      <td>78.106990</td>\n",
       "      <td>123.009862</td>\n",
       "      <td>58.398890</td>\n",
       "    </tr>\n",
       "    <tr>\n",
       "      <th>5</th>\n",
       "      <td>22.978814</td>\n",
       "      <td>44.988363</td>\n",
       "      <td>9.002759</td>\n",
       "      <td>23.614277</td>\n",
       "    </tr>\n",
       "  </tbody>\n",
       "</table>\n",
       "</div>"
      ],
      "text/plain": [
       "        Left       Down       Right         Up\n",
       "0  50.297644  66.548221   36.046703  50.640257\n",
       "1  48.415201 -55.658352   33.063131  33.650962\n",
       "2  64.823720  90.827069  -58.151265  46.669508\n",
       "3  42.348715  57.457156   32.392268  44.622511\n",
       "4  73.125095  78.106990  123.009862  58.398890\n",
       "5  22.978814  44.988363    9.002759  23.614277"
      ]
     },
     "execution_count": 141,
     "metadata": {},
     "output_type": "execute_result"
    }
   ],
   "source": [
    "df = pd.DataFrame(q)\n",
    "df = df.T\n",
    "df.columns = [\"Left\", \"Down\", \"Right\", \"Up\"]\n",
    "df.head(6)"
   ]
  },
  {
   "cell_type": "code",
   "execution_count": 142,
   "id": "3572e0c9",
   "metadata": {},
   "outputs": [],
   "source": [
    "env.close()\n",
    "# Save final q table as a csv file\n",
    "df.to_csv('final_q_values_2.csv', index=False)"
   ]
  },
  {
   "cell_type": "markdown",
   "id": "3b912364",
   "metadata": {},
   "source": [
    "### 3. Testing Your Model\n",
    "In the cell seen below, write the code you need to test your Q-Learning model for **1000 episodes**. It is important to test your model for 1000 episodes so that we are all able to compare our results.\n",
    "\n",
    "*Note, level 5 testing uses both a success rate and an average steps taken metric to evaluate your model. Level 4 uses one or the other.*"
   ]
  },
  {
   "cell_type": "code",
   "execution_count": 143,
   "id": "e30cf1dd",
   "metadata": {},
   "outputs": [],
   "source": [
    "# Test your model here"
   ]
  },
  {
   "cell_type": "markdown",
   "id": "78e7e09e",
   "metadata": {},
   "source": [
    "### 4. Final Answer\n",
    "In the first cell below, describe the path your elf takes to get to the gift. *Note, a level 5 answer includes a gif of the path your elf takes in order to reach the gift.*\n",
    "\n",
    "In the second cell seen below, describe how well your Q-Learning model performed. Make sure that you explicitly name the **learning rate**, **the discount factor**, and the **reward system** that you used when training your final model. *Note, a level 5 description describes the model's performance using two types of quantitative evidence.*"
   ]
  },
  {
   "cell_type": "markdown",
   "id": "9b6eef8e",
   "metadata": {},
   "source": [
    "![example image](https://gymnasium.farama.org/_images/frozen_lake.gif)"
   ]
  },
  {
   "cell_type": "markdown",
   "id": "54fdae15",
   "metadata": {},
   "source": [
    "#### Describe the path your elf takes here."
   ]
  },
  {
   "cell_type": "markdown",
   "id": "6b8f66ed",
   "metadata": {},
   "source": [
    "#### Describe how well your Q-Learning model performed here."
   ]
  }
 ],
 "metadata": {
  "kernelspec": {
   "display_name": "Python 3 (ipykernel)",
   "language": "python",
   "name": "python3"
  },
  "language_info": {
   "codemirror_mode": {
    "name": "ipython",
    "version": 3
   },
   "file_extension": ".py",
   "mimetype": "text/x-python",
   "name": "python",
   "nbconvert_exporter": "python",
   "pygments_lexer": "ipython3",
   "version": "3.9.12"
  }
 },
 "nbformat": 4,
 "nbformat_minor": 5
}
