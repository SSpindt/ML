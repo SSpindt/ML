{
 "cells": [
  {
   "cell_type": "code",
   "execution_count": 1,
   "id": "9eb92d5a",
   "metadata": {},
   "outputs": [
    {
     "name": "stderr",
     "output_type": "stream",
     "text": [
      "C:\\ProgramData\\Anaconda3\\lib\\site-packages\\scipy\\__init__.py:155: UserWarning: A NumPy version >=1.18.5 and <1.25.0 is required for this version of SciPy (detected version 1.26.4\n",
      "  warnings.warn(f\"A NumPy version >={np_minversion} and <{np_maxversion}\"\n"
     ]
    }
   ],
   "source": [
    "import pandas as pd\n",
    "from sklearn.neighbors import KNeighborsClassifier\n",
    "from sklearn.naive_bayes import MultinomialNB\n",
    "from sklearn.feature_extraction.text import CountVectorizer"
   ]
  },
  {
   "cell_type": "code",
   "execution_count": 2,
   "id": "3051a8b1",
   "metadata": {},
   "outputs": [],
   "source": [
    "df = pd.read_csv(\"diffusion_db_unaltered.csv\")"
   ]
  },
  {
   "cell_type": "code",
   "execution_count": 6,
   "id": "faa496f4",
   "metadata": {},
   "outputs": [
    {
     "data": {
      "text/html": [
       "<div>\n",
       "<style scoped>\n",
       "    .dataframe tbody tr th:only-of-type {\n",
       "        vertical-align: middle;\n",
       "    }\n",
       "\n",
       "    .dataframe tbody tr th {\n",
       "        vertical-align: top;\n",
       "    }\n",
       "\n",
       "    .dataframe thead th {\n",
       "        text-align: right;\n",
       "    }\n",
       "</style>\n",
       "<table border=\"1\" class=\"dataframe\">\n",
       "  <thead>\n",
       "    <tr style=\"text-align: right;\">\n",
       "      <th></th>\n",
       "      <th>prompt</th>\n",
       "      <th>image_nsfw</th>\n",
       "      <th>prompt_nsfw</th>\n",
       "    </tr>\n",
       "  </thead>\n",
       "  <tbody>\n",
       "    <tr>\n",
       "      <th>186</th>\n",
       "      <td>portrait of a cloaked female devil, evil, omin...</td>\n",
       "      <td>0.184256</td>\n",
       "      <td>0.526609</td>\n",
       "    </tr>\n",
       "    <tr>\n",
       "      <th>187</th>\n",
       "      <td>portrait of a cloaked female devil, evil, omin...</td>\n",
       "      <td>0.093387</td>\n",
       "      <td>0.537081</td>\n",
       "    </tr>\n",
       "    <tr>\n",
       "      <th>188</th>\n",
       "      <td>portrait of a cloaked female devil, evil, omin...</td>\n",
       "      <td>0.176597</td>\n",
       "      <td>0.535589</td>\n",
       "    </tr>\n",
       "    <tr>\n",
       "      <th>191</th>\n",
       "      <td>portrait of a cloaked female devil, evil, omin...</td>\n",
       "      <td>0.864233</td>\n",
       "      <td>0.536021</td>\n",
       "    </tr>\n",
       "    <tr>\n",
       "      <th>766</th>\n",
       "      <td>kpop idol woman dressed in pink, eating a suck...</td>\n",
       "      <td>0.186505</td>\n",
       "      <td>0.873680</td>\n",
       "    </tr>\n",
       "  </tbody>\n",
       "</table>\n",
       "</div>"
      ],
      "text/plain": [
       "                                                prompt  image_nsfw  \\\n",
       "186  portrait of a cloaked female devil, evil, omin...    0.184256   \n",
       "187  portrait of a cloaked female devil, evil, omin...    0.093387   \n",
       "188  portrait of a cloaked female devil, evil, omin...    0.176597   \n",
       "191  portrait of a cloaked female devil, evil, omin...    0.864233   \n",
       "766  kpop idol woman dressed in pink, eating a suck...    0.186505   \n",
       "\n",
       "     prompt_nsfw  \n",
       "186     0.526609  \n",
       "187     0.537081  \n",
       "188     0.535589  \n",
       "191     0.536021  \n",
       "766     0.873680  "
      ]
     },
     "execution_count": 6,
     "metadata": {},
     "output_type": "execute_result"
    }
   ],
   "source": [
    "nsfw = df[df['prompt_nsfw'] > 0.5]\n",
    "nsfw.head()"
   ]
  },
  {
   "cell_type": "code",
   "execution_count": 13,
   "id": "91b13822",
   "metadata": {},
   "outputs": [],
   "source": [
    "harmful = []\n",
    "for prompt in nsfw['prompt']:\n",
    "    for word in prompt.split():\n",
    "        if word not in harmful:\n",
    "            harmful.append(word)\n",
    "    break"
   ]
  },
  {
   "cell_type": "code",
   "execution_count": 14,
   "id": "df291465",
   "metadata": {},
   "outputs": [
    {
     "data": {
      "text/plain": [
       "['portrait',\n",
       " 'of',\n",
       " 'a',\n",
       " 'cloaked',\n",
       " 'female',\n",
       " 'devil,',\n",
       " 'evil,',\n",
       " 'ominous,',\n",
       " 'luscious,',\n",
       " 'pointy',\n",
       " 'teeth,',\n",
       " 'stunning,',\n",
       " 'detailed,',\n",
       " 'by',\n",
       " 'artgerm,',\n",
       " 'greg',\n",
       " 'rutkowski,',\n",
       " 'luis',\n",
       " 'royo,',\n",
       " 'pixar,',\n",
       " 'myazaki,',\n",
       " 'gothic,',\n",
       " 'final',\n",
       " 'fantasy,',\n",
       " 'medieval']"
      ]
     },
     "execution_count": 14,
     "metadata": {},
     "output_type": "execute_result"
    }
   ],
   "source": [
    "harmful"
   ]
  },
  {
   "cell_type": "code",
   "execution_count": 3,
   "id": "95c2f812",
   "metadata": {},
   "outputs": [
    {
     "name": "stderr",
     "output_type": "stream",
     "text": [
      "C:\\Users\\sspindt\\AppData\\Local\\Temp\\ipykernel_35228\\4009812897.py:2: SettingWithCopyWarning: \n",
      "A value is trying to be set on a copy of a slice from a DataFrame.\n",
      "Try using .loc[row_indexer,col_indexer] = value instead\n",
      "\n",
      "See the caveats in the documentation: https://pandas.pydata.org/pandas-docs/stable/user_guide/indexing.html#returning-a-view-versus-a-copy\n",
      "  df1.loc[df['prompt_nsfw'] >= 0.5, \"prompt_nsfw\"] = \"Harmful\"\n"
     ]
    }
   ],
   "source": [
    "df1 = df[:1000]\n",
    "df1.loc[df['prompt_nsfw'] >= 0.5, \"prompt_nsfw\"] = \"Harmful\"\n",
    "df1.loc[df['prompt_nsfw']  < 0.5, \"prompt_nsfw\"] = \"Harmless\""
   ]
  },
  {
   "cell_type": "code",
   "execution_count": 4,
   "id": "18962640",
   "metadata": {},
   "outputs": [],
   "source": [
    "vectorizer = CountVectorizer()\n",
    "X = vectorizer.fit_transform(df1['prompt'])"
   ]
  },
  {
   "cell_type": "code",
   "execution_count": 5,
   "id": "26738020",
   "metadata": {},
   "outputs": [],
   "source": [
    "y = df1['prompt_nsfw']"
   ]
  },
  {
   "cell_type": "code",
   "execution_count": 6,
   "id": "97ddcb3f",
   "metadata": {},
   "outputs": [],
   "source": [
    "neigh = KNeighborsClassifier(n_neighbors=11)\n",
    "clf = MultinomialNB()"
   ]
  },
  {
   "cell_type": "code",
   "execution_count": 7,
   "id": "62eeb7da",
   "metadata": {},
   "outputs": [
    {
     "data": {
      "text/plain": [
       "MultinomialNB()"
      ]
     },
     "execution_count": 7,
     "metadata": {},
     "output_type": "execute_result"
    }
   ],
   "source": [
    "# KNN Fit\n",
    "neigh.fit(X, y)\n",
    "\n",
    "# Bayes Fit\n",
    "clf.fit(X, y)"
   ]
  },
  {
   "cell_type": "code",
   "execution_count": 9,
   "id": "140c82e6",
   "metadata": {
    "collapsed": true
   },
   "outputs": [
    {
     "name": "stderr",
     "output_type": "stream",
     "text": [
      "C:\\ProgramData\\Anaconda3\\lib\\site-packages\\sklearn\\neighbors\\_classification.py:228: FutureWarning: Unlike other reduction functions (e.g. `skew`, `kurtosis`), the default behavior of `mode` typically preserves the axis it acts along. In SciPy 1.11.0, this behavior will change: the default value of `keepdims` will become False, the `axis` over which the statistic is taken will be eliminated, and the value None will no longer be accepted. Set `keepdims` to True or False to avoid this warning.\n",
      "  mode, _ = stats.mode(_y[neigh_ind, k], axis=1)\n"
     ]
    }
   ],
   "source": [
    "# Predict with KNN\n",
    "y_pred = neigh.predict(X)"
   ]
  },
  {
   "cell_type": "code",
   "execution_count": 8,
   "id": "fe6a878b",
   "metadata": {},
   "outputs": [],
   "source": [
    "# Predict with Bayes\n",
    "y_pred_bayes = clf.predict(X)"
   ]
  },
  {
   "cell_type": "code",
   "execution_count": 10,
   "id": "2f8eea67",
   "metadata": {},
   "outputs": [
    {
     "data": {
      "text/plain": [
       "array(['Harmless', 'Harmless', 'Harmless', 'Harmless', 'Harmless',\n",
       "       'Harmless', 'Harmless', 'Harmless', 'Harmless', 'Harmless',\n",
       "       'Harmless', 'Harmless', 'Harmless', 'Harmless', 'Harmless',\n",
       "       'Harmless', 'Harmless', 'Harmless', 'Harmless', 'Harmless',\n",
       "       'Harmless', 'Harmless', 'Harmless', 'Harmless', 'Harmless',\n",
       "       'Harmless', 'Harmless', 'Harmless', 'Harmless', 'Harmless',\n",
       "       'Harmless', 'Harmless', 'Harmless', 'Harmless', 'Harmless',\n",
       "       'Harmless', 'Harmless', 'Harmless', 'Harmless', 'Harmless',\n",
       "       'Harmless', 'Harmless', 'Harmless', 'Harmless', 'Harmless',\n",
       "       'Harmless', 'Harmless', 'Harmless', 'Harmless', 'Harmful',\n",
       "       'Harmless', 'Harmless', 'Harmless', 'Harmful', 'Harmful',\n",
       "       'Harmless', 'Harmless', 'Harmless', 'Harmless', 'Harmless',\n",
       "       'Harmless', 'Harmless', 'Harmful', 'Harmless', 'Harmless',\n",
       "       'Harmless', 'Harmless', 'Harmless', 'Harmless', 'Harmless',\n",
       "       'Harmless', 'Harmless', 'Harmless', 'Harmless', 'Harmless',\n",
       "       'Harmless', 'Harmless', 'Harmless', 'Harmless', 'Harmless',\n",
       "       'Harmless', 'Harmless', 'Harmful', 'Harmless', 'Harmless',\n",
       "       'Harmless', 'Harmless', 'Harmful', 'Harmless', 'Harmless',\n",
       "       'Harmless', 'Harmless', 'Harmless', 'Harmless', 'Harmless',\n",
       "       'Harmless', 'Harmless', 'Harmless', 'Harmless', 'Harmless',\n",
       "       'Harmless', 'Harmless', 'Harmless', 'Harmless', 'Harmless',\n",
       "       'Harmless', 'Harmless', 'Harmless', 'Harmless', 'Harmless',\n",
       "       'Harmless', 'Harmless', 'Harmless', 'Harmless', 'Harmless',\n",
       "       'Harmless', 'Harmless', 'Harmless', 'Harmless', 'Harmless',\n",
       "       'Harmless', 'Harmless', 'Harmless', 'Harmless', 'Harmless',\n",
       "       'Harmless', 'Harmless', 'Harmless', 'Harmless', 'Harmless',\n",
       "       'Harmless', 'Harmless', 'Harmless', 'Harmless', 'Harmless',\n",
       "       'Harmless', 'Harmless', 'Harmless', 'Harmful', 'Harmless',\n",
       "       'Harmless', 'Harmless', 'Harmless', 'Harmless', 'Harmless',\n",
       "       'Harmless', 'Harmless', 'Harmless', 'Harmless', 'Harmless',\n",
       "       'Harmless', 'Harmless', 'Harmless', 'Harmless', 'Harmless',\n",
       "       'Harmless', 'Harmless', 'Harmless', 'Harmless', 'Harmless',\n",
       "       'Harmless', 'Harmless', 'Harmless', 'Harmless', 'Harmless',\n",
       "       'Harmless', 'Harmless', 'Harmless', 'Harmless', 'Harmless',\n",
       "       'Harmless', 'Harmless', 'Harmless', 'Harmless', 'Harmless',\n",
       "       'Harmless', 'Harmless', 'Harmless', 'Harmless', 'Harmless',\n",
       "       'Harmless', 'Harmless', 'Harmless', 'Harmless', 'Harmless',\n",
       "       'Harmless', 'Harmless', 'Harmless', 'Harmless', 'Harmless',\n",
       "       'Harmless', 'Harmless', 'Harmless', 'Harmless', 'Harmless',\n",
       "       'Harmless', 'Harmless', 'Harmless', 'Harmless', 'Harmless',\n",
       "       'Harmless', 'Harmless', 'Harmless', 'Harmless', 'Harmless',\n",
       "       'Harmless', 'Harmless', 'Harmless', 'Harmless', 'Harmless',\n",
       "       'Harmless', 'Harmless', 'Harmless', 'Harmless', 'Harmless',\n",
       "       'Harmless', 'Harmless', 'Harmless', 'Harmless', 'Harmless',\n",
       "       'Harmless', 'Harmless', 'Harmless', 'Harmless', 'Harmless',\n",
       "       'Harmless', 'Harmless', 'Harmless', 'Harmless', 'Harmless',\n",
       "       'Harmless', 'Harmless', 'Harmless', 'Harmless', 'Harmless',\n",
       "       'Harmless', 'Harmless', 'Harmless', 'Harmless', 'Harmless',\n",
       "       'Harmless', 'Harmless', 'Harmless', 'Harmless', 'Harmless',\n",
       "       'Harmless', 'Harmless', 'Harmless', 'Harmless', 'Harmless',\n",
       "       'Harmless', 'Harmless', 'Harmless', 'Harmless', 'Harmless',\n",
       "       'Harmless', 'Harmless', 'Harmless', 'Harmless', 'Harmless',\n",
       "       'Harmless', 'Harmless', 'Harmless', 'Harmless', 'Harmless',\n",
       "       'Harmless', 'Harmless', 'Harmless', 'Harmless', 'Harmless',\n",
       "       'Harmless', 'Harmless', 'Harmless', 'Harmless', 'Harmless',\n",
       "       'Harmless', 'Harmless', 'Harmless', 'Harmless', 'Harmless',\n",
       "       'Harmless', 'Harmless', 'Harmless', 'Harmless', 'Harmless',\n",
       "       'Harmless', 'Harmless', 'Harmless', 'Harmless', 'Harmless',\n",
       "       'Harmless', 'Harmless', 'Harmless', 'Harmless', 'Harmless',\n",
       "       'Harmless', 'Harmless', 'Harmless', 'Harmless', 'Harmless',\n",
       "       'Harmless', 'Harmless', 'Harmless', 'Harmless', 'Harmless',\n",
       "       'Harmless', 'Harmless', 'Harmless', 'Harmless', 'Harmless',\n",
       "       'Harmless', 'Harmless', 'Harmless', 'Harmless', 'Harmless',\n",
       "       'Harmless', 'Harmless', 'Harmless', 'Harmless', 'Harmless',\n",
       "       'Harmless', 'Harmless', 'Harmless', 'Harmless', 'Harmless',\n",
       "       'Harmless', 'Harmless', 'Harmless', 'Harmless', 'Harmless',\n",
       "       'Harmless', 'Harmless', 'Harmless', 'Harmless', 'Harmless',\n",
       "       'Harmless', 'Harmless', 'Harmless', 'Harmless', 'Harmless',\n",
       "       'Harmless', 'Harmless', 'Harmless', 'Harmless', 'Harmless',\n",
       "       'Harmless', 'Harmless', 'Harmless', 'Harmless', 'Harmless',\n",
       "       'Harmless', 'Harmless', 'Harmless', 'Harmless', 'Harmless',\n",
       "       'Harmless', 'Harmless', 'Harmless', 'Harmless', 'Harmless',\n",
       "       'Harmless', 'Harmless', 'Harmless', 'Harmless', 'Harmless',\n",
       "       'Harmless', 'Harmless', 'Harmless', 'Harmless', 'Harmless',\n",
       "       'Harmless', 'Harmless', 'Harmless', 'Harmless', 'Harmless',\n",
       "       'Harmless', 'Harmless', 'Harmless', 'Harmless', 'Harmless',\n",
       "       'Harmless', 'Harmless', 'Harmless', 'Harmless', 'Harmless',\n",
       "       'Harmless', 'Harmless', 'Harmless', 'Harmless', 'Harmless',\n",
       "       'Harmless', 'Harmless', 'Harmless', 'Harmless', 'Harmless',\n",
       "       'Harmless', 'Harmless', 'Harmless', 'Harmless', 'Harmless',\n",
       "       'Harmless', 'Harmless', 'Harmless', 'Harmless', 'Harmless',\n",
       "       'Harmless', 'Harmless', 'Harmless', 'Harmless', 'Harmless',\n",
       "       'Harmless', 'Harmless', 'Harmless', 'Harmless', 'Harmless',\n",
       "       'Harmless', 'Harmless', 'Harmless', 'Harmless', 'Harmless',\n",
       "       'Harmless', 'Harmless', 'Harmless', 'Harmless', 'Harmless',\n",
       "       'Harmless', 'Harmless', 'Harmless', 'Harmless', 'Harmless',\n",
       "       'Harmless', 'Harmless', 'Harmless', 'Harmless', 'Harmless',\n",
       "       'Harmless', 'Harmless', 'Harmless', 'Harmless', 'Harmless',\n",
       "       'Harmless', 'Harmless', 'Harmless', 'Harmless', 'Harmless',\n",
       "       'Harmless', 'Harmless', 'Harmless', 'Harmless', 'Harmless',\n",
       "       'Harmless', 'Harmless', 'Harmless', 'Harmless', 'Harmless',\n",
       "       'Harmless', 'Harmless', 'Harmless', 'Harmless', 'Harmless',\n",
       "       'Harmless', 'Harmless', 'Harmless', 'Harmless', 'Harmless',\n",
       "       'Harmless', 'Harmless', 'Harmless', 'Harmless', 'Harmless',\n",
       "       'Harmless', 'Harmless', 'Harmless', 'Harmless', 'Harmless',\n",
       "       'Harmless', 'Harmless', 'Harmless', 'Harmless', 'Harmless',\n",
       "       'Harmless', 'Harmless', 'Harmless', 'Harmless', 'Harmless',\n",
       "       'Harmless', 'Harmless', 'Harmless', 'Harmless', 'Harmless',\n",
       "       'Harmless', 'Harmless', 'Harmless', 'Harmless', 'Harmless',\n",
       "       'Harmless', 'Harmless', 'Harmless', 'Harmless', 'Harmless',\n",
       "       'Harmless', 'Harmless', 'Harmless', 'Harmless', 'Harmless',\n",
       "       'Harmless', 'Harmless', 'Harmless', 'Harmless', 'Harmless',\n",
       "       'Harmless', 'Harmless', 'Harmless', 'Harmless', 'Harmless',\n",
       "       'Harmless', 'Harmless', 'Harmless', 'Harmless', 'Harmless',\n",
       "       'Harmless', 'Harmless', 'Harmless', 'Harmless', 'Harmless',\n",
       "       'Harmless', 'Harmless', 'Harmless', 'Harmless', 'Harmless',\n",
       "       'Harmless', 'Harmless', 'Harmless', 'Harmless', 'Harmless',\n",
       "       'Harmless', 'Harmless', 'Harmless', 'Harmless', 'Harmless',\n",
       "       'Harmless', 'Harmless', 'Harmless', 'Harmless', 'Harmless',\n",
       "       'Harmless', 'Harmless', 'Harmless', 'Harmless', 'Harmless',\n",
       "       'Harmless', 'Harmless', 'Harmless', 'Harmless', 'Harmless',\n",
       "       'Harmless', 'Harmless', 'Harmless', 'Harmless', 'Harmless',\n",
       "       'Harmless', 'Harmless', 'Harmless', 'Harmless', 'Harmless',\n",
       "       'Harmless', 'Harmless', 'Harmless', 'Harmless', 'Harmless',\n",
       "       'Harmless', 'Harmless', 'Harmless', 'Harmless', 'Harmless',\n",
       "       'Harmless', 'Harmless', 'Harmless', 'Harmless', 'Harmless',\n",
       "       'Harmless', 'Harmless', 'Harmless', 'Harmless', 'Harmless',\n",
       "       'Harmless', 'Harmless', 'Harmless', 'Harmless', 'Harmless',\n",
       "       'Harmless', 'Harmless', 'Harmless', 'Harmless', 'Harmless',\n",
       "       'Harmless', 'Harmless', 'Harmless', 'Harmless', 'Harmless',\n",
       "       'Harmless', 'Harmless', 'Harmless', 'Harmless', 'Harmless',\n",
       "       'Harmless', 'Harmless', 'Harmless', 'Harmless', 'Harmless',\n",
       "       'Harmless', 'Harmless', 'Harmless', 'Harmless', 'Harmless',\n",
       "       'Harmless', 'Harmless', 'Harmless', 'Harmless', 'Harmless',\n",
       "       'Harmless', 'Harmless', 'Harmless', 'Harmless', 'Harmless',\n",
       "       'Harmless', 'Harmless', 'Harmless', 'Harmless', 'Harmless',\n",
       "       'Harmless', 'Harmless', 'Harmless', 'Harmless', 'Harmless',\n",
       "       'Harmless', 'Harmless', 'Harmless', 'Harmless', 'Harmless',\n",
       "       'Harmless', 'Harmless', 'Harmless', 'Harmless', 'Harmless',\n",
       "       'Harmless', 'Harmless', 'Harmless', 'Harmless', 'Harmless',\n",
       "       'Harmless', 'Harmless', 'Harmless', 'Harmless', 'Harmless',\n",
       "       'Harmless', 'Harmless', 'Harmless', 'Harmless', 'Harmless',\n",
       "       'Harmless', 'Harmless', 'Harmless', 'Harmless', 'Harmless',\n",
       "       'Harmless', 'Harmless', 'Harmless', 'Harmless', 'Harmless',\n",
       "       'Harmless', 'Harmless', 'Harmless', 'Harmless', 'Harmless',\n",
       "       'Harmless', 'Harmless', 'Harmless', 'Harmless', 'Harmless',\n",
       "       'Harmless', 'Harmless', 'Harmless', 'Harmless', 'Harmless',\n",
       "       'Harmless', 'Harmless', 'Harmless', 'Harmless', 'Harmless',\n",
       "       'Harmful', 'Harmful', 'Harmless', 'Harmless', 'Harmless',\n",
       "       'Harmless', 'Harmless', 'Harmless', 'Harmless', 'Harmless',\n",
       "       'Harmless', 'Harmless', 'Harmless', 'Harmless', 'Harmless',\n",
       "       'Harmless', 'Harmless', 'Harmless', 'Harmless', 'Harmless',\n",
       "       'Harmless', 'Harmless', 'Harmless', 'Harmless', 'Harmless',\n",
       "       'Harmless', 'Harmless', 'Harmless', 'Harmless', 'Harmless',\n",
       "       'Harmless', 'Harmless', 'Harmless', 'Harmless', 'Harmless',\n",
       "       'Harmless', 'Harmless', 'Harmless', 'Harmless', 'Harmless',\n",
       "       'Harmless', 'Harmless', 'Harmless', 'Harmless', 'Harmless',\n",
       "       'Harmless', 'Harmless', 'Harmless', 'Harmless', 'Harmless',\n",
       "       'Harmless', 'Harmless', 'Harmless', 'Harmless', 'Harmless',\n",
       "       'Harmless', 'Harmless', 'Harmless', 'Harmless', 'Harmless',\n",
       "       'Harmless', 'Harmless', 'Harmless', 'Harmless', 'Harmless',\n",
       "       'Harmless', 'Harmless', 'Harmless', 'Harmless', 'Harmless',\n",
       "       'Harmless', 'Harmless', 'Harmless', 'Harmless', 'Harmless',\n",
       "       'Harmless', 'Harmless', 'Harmless', 'Harmless', 'Harmless',\n",
       "       'Harmless', 'Harmless', 'Harmless', 'Harmless', 'Harmless',\n",
       "       'Harmless', 'Harmless', 'Harmless', 'Harmless', 'Harmless',\n",
       "       'Harmless', 'Harmless', 'Harmless', 'Harmless', 'Harmless',\n",
       "       'Harmless', 'Harmless', 'Harmless', 'Harmless', 'Harmless',\n",
       "       'Harmless', 'Harmless', 'Harmless', 'Harmless', 'Harmless',\n",
       "       'Harmless', 'Harmless', 'Harmless', 'Harmless', 'Harmless',\n",
       "       'Harmless', 'Harmless', 'Harmless', 'Harmless', 'Harmless',\n",
       "       'Harmless', 'Harmless', 'Harmless', 'Harmless', 'Harmless',\n",
       "       'Harmless', 'Harmless', 'Harmless', 'Harmless', 'Harmless',\n",
       "       'Harmless', 'Harmless', 'Harmless', 'Harmless', 'Harmless',\n",
       "       'Harmless', 'Harmless', 'Harmless', 'Harmless', 'Harmless',\n",
       "       'Harmless', 'Harmless', 'Harmless', 'Harmless', 'Harmful',\n",
       "       'Harmless', 'Harmless', 'Harmless', 'Harmless', 'Harmless',\n",
       "       'Harmless', 'Harmless', 'Harmless', 'Harmless', 'Harmless',\n",
       "       'Harmless', 'Harmless', 'Harmless', 'Harmless', 'Harmless',\n",
       "       'Harmful', 'Harmless', 'Harmless', 'Harmless', 'Harmless',\n",
       "       'Harmless', 'Harmless', 'Harmless', 'Harmless', 'Harmless',\n",
       "       'Harmless', 'Harmless', 'Harmless', 'Harmless', 'Harmless',\n",
       "       'Harmless', 'Harmless', 'Harmless', 'Harmless', 'Harmless',\n",
       "       'Harmless', 'Harmless', 'Harmless', 'Harmless', 'Harmless',\n",
       "       'Harmless', 'Harmless', 'Harmless', 'Harmless', 'Harmless',\n",
       "       'Harmless', 'Harmless', 'Harmless', 'Harmless', 'Harmless',\n",
       "       'Harmless', 'Harmless', 'Harmless', 'Harmless', 'Harmless',\n",
       "       'Harmless', 'Harmless', 'Harmless', 'Harmless', 'Harmless',\n",
       "       'Harmless', 'Harmless', 'Harmless', 'Harmless', 'Harmless',\n",
       "       'Harmless', 'Harmless', 'Harmless', 'Harmless', 'Harmless',\n",
       "       'Harmless', 'Harmless', 'Harmless', 'Harmless', 'Harmless',\n",
       "       'Harmless', 'Harmless', 'Harmless', 'Harmless', 'Harmless',\n",
       "       'Harmless', 'Harmless', 'Harmless', 'Harmless', 'Harmless',\n",
       "       'Harmless', 'Harmless', 'Harmless', 'Harmless', 'Harmless',\n",
       "       'Harmless', 'Harmless', 'Harmless', 'Harmless', 'Harmless',\n",
       "       'Harmless', 'Harmless', 'Harmless', 'Harmless', 'Harmless',\n",
       "       'Harmless', 'Harmless', 'Harmless', 'Harmless', 'Harmless',\n",
       "       'Harmless', 'Harmless', 'Harmless', 'Harmless', 'Harmless',\n",
       "       'Harmless', 'Harmless', 'Harmless', 'Harmless', 'Harmless',\n",
       "       'Harmless', 'Harmless', 'Harmless', 'Harmless', 'Harmless',\n",
       "       'Harmless', 'Harmless', 'Harmless', 'Harmless', 'Harmless',\n",
       "       'Harmless', 'Harmless', 'Harmless', 'Harmless', 'Harmless',\n",
       "       'Harmless', 'Harmless', 'Harmless', 'Harmless', 'Harmless',\n",
       "       'Harmless', 'Harmless', 'Harmless', 'Harmless', 'Harmless',\n",
       "       'Harmless', 'Harmless', 'Harmless', 'Harmless', 'Harmless',\n",
       "       'Harmless', 'Harmless', 'Harmless', 'Harmless', 'Harmless',\n",
       "       'Harmless', 'Harmless', 'Harmless', 'Harmless', 'Harmless',\n",
       "       'Harmless', 'Harmless', 'Harmless', 'Harmless', 'Harmless',\n",
       "       'Harmless', 'Harmless', 'Harmless', 'Harmless', 'Harmless',\n",
       "       'Harmless', 'Harmless', 'Harmless', 'Harmful', 'Harmless'],\n",
       "      dtype='<U8')"
      ]
     },
     "execution_count": 10,
     "metadata": {},
     "output_type": "execute_result"
    }
   ],
   "source": [
    "y_pred_bayes"
   ]
  },
  {
   "cell_type": "code",
   "execution_count": 11,
   "id": "42dd9c5d",
   "metadata": {},
   "outputs": [
    {
     "data": {
      "text/plain": [
       "0.983"
      ]
     },
     "execution_count": 11,
     "metadata": {},
     "output_type": "execute_result"
    }
   ],
   "source": [
    "from sklearn.metrics import accuracy_score\n",
    "accuracy_score(y, y_pred_bayes)"
   ]
  },
  {
   "cell_type": "code",
   "execution_count": 12,
   "id": "41c9fce8",
   "metadata": {},
   "outputs": [
    {
     "data": {
      "text/plain": [
       "0.4974696356275304"
      ]
     },
     "execution_count": 12,
     "metadata": {},
     "output_type": "execute_result"
    }
   ],
   "source": [
    "from sklearn.metrics import precision_score\n",
    "precision_score(y, y_pred_bayes, average='macro')"
   ]
  },
  {
   "cell_type": "code",
   "execution_count": 13,
   "id": "b690eadd",
   "metadata": {},
   "outputs": [
    {
     "data": {
      "text/plain": [
       "0.49396984924623116"
      ]
     },
     "execution_count": 13,
     "metadata": {},
     "output_type": "execute_result"
    }
   ],
   "source": [
    "from sklearn.metrics import recall_score\n",
    "recall_score(y, y_pred_bayes, average='macro')"
   ]
  },
  {
   "cell_type": "code",
   "execution_count": 14,
   "id": "0ce829cc",
   "metadata": {},
   "outputs": [
    {
     "data": {
      "text/plain": [
       "0.4957135653050933"
      ]
     },
     "execution_count": 14,
     "metadata": {},
     "output_type": "execute_result"
    }
   ],
   "source": [
    "from sklearn.metrics import f1_score\n",
    "f1_score(y, y_pred_bayes, average='macro')"
   ]
  }
 ],
 "metadata": {
  "kernelspec": {
   "display_name": "Python 3 (ipykernel)",
   "language": "python",
   "name": "python3"
  },
  "language_info": {
   "codemirror_mode": {
    "name": "ipython",
    "version": 3
   },
   "file_extension": ".py",
   "mimetype": "text/x-python",
   "name": "python",
   "nbconvert_exporter": "python",
   "pygments_lexer": "ipython3",
   "version": "3.9.13"
  }
 },
 "nbformat": 4,
 "nbformat_minor": 5
}
