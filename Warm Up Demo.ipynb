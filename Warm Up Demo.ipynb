{
 "cells": [
  {
   "cell_type": "code",
   "execution_count": 18,
   "id": "8cc28fc1",
   "metadata": {},
   "outputs": [],
   "source": [
    "import pandas as pd\n",
    "import math\n",
    "from sklearn.model_selection import train_test_split\n",
    "import numpy as np\n",
    "from sklearn.linear_model import LinearRegression\n",
    "from sklearn.metrics import mean_squared_error"
   ]
  },
  {
   "cell_type": "code",
   "execution_count": 2,
   "id": "9b7b30f9",
   "metadata": {},
   "outputs": [
    {
     "name": "stdout",
     "output_type": "stream",
     "text": [
      "<class 'pandas.core.frame.DataFrame'>\n",
      "RangeIndex: 104 entries, 0 to 103\n",
      "Data columns (total 14 columns):\n",
      " #   Column    Non-Null Count  Dtype  \n",
      "---  ------    --------------  -----  \n",
      " 0   case      104 non-null    int64  \n",
      " 1   site      104 non-null    int64  \n",
      " 2   Pop       104 non-null    object \n",
      " 3   sex       104 non-null    object \n",
      " 4   age       102 non-null    float64\n",
      " 5   hdlngth   104 non-null    float64\n",
      " 6   skullw    104 non-null    float64\n",
      " 7   totlngth  104 non-null    float64\n",
      " 8   taill     104 non-null    float64\n",
      " 9   footlgth  103 non-null    float64\n",
      " 10  earconch  104 non-null    float64\n",
      " 11  eye       104 non-null    float64\n",
      " 12  chest     104 non-null    float64\n",
      " 13  belly     104 non-null    float64\n",
      "dtypes: float64(10), int64(2), object(2)\n",
      "memory usage: 11.5+ KB\n"
     ]
    }
   ],
   "source": [
    "df = pd.read_csv(\"possum.csv\")\n",
    "df.info()"
   ]
  },
  {
   "cell_type": "code",
   "execution_count": 3,
   "id": "28e3c459",
   "metadata": {},
   "outputs": [],
   "source": [
    "features = df[[\"skullw\", \"belly\"]]"
   ]
  },
  {
   "cell_type": "code",
   "execution_count": 4,
   "id": "27b0b878",
   "metadata": {},
   "outputs": [],
   "source": [
    "output = df[\"taill\"]"
   ]
  },
  {
   "cell_type": "code",
   "execution_count": 5,
   "id": "424c4898",
   "metadata": {},
   "outputs": [],
   "source": [
    "X_train, X_test, y_train, y_test = train_test_split(\n",
    "    features, output, test_size=0.30, random_state=42)"
   ]
  },
  {
   "cell_type": "code",
   "execution_count": 6,
   "id": "3775df74",
   "metadata": {},
   "outputs": [],
   "source": [
    "model = LinearRegression()"
   ]
  },
  {
   "cell_type": "code",
   "execution_count": 7,
   "id": "3027037b",
   "metadata": {},
   "outputs": [
    {
     "data": {
      "text/plain": [
       "LinearRegression()"
      ]
     },
     "execution_count": 7,
     "metadata": {},
     "output_type": "execute_result"
    }
   ],
   "source": [
    "model.fit(X_train, y_train) \n",
    "# y = m1x1 + m2x2 + b, where x1 is skull width and x2 is belly girth"
   ]
  },
  {
   "cell_type": "code",
   "execution_count": 12,
   "id": "61213105",
   "metadata": {},
   "outputs": [
    {
     "name": "stdout",
     "output_type": "stream",
     "text": [
      "y =  0.09662865995187996 x1 +  0.15513862582554358 x2 +  26.658702599045757\n"
     ]
    }
   ],
   "source": [
    "m1 = model.coef_[0]\n",
    "m2 = model.coef_[1]\n",
    "b = model.intercept_\n",
    "print(\"y = \", m1, \"x1 + \", m2, \"x2 + \", b )"
   ]
  },
  {
   "cell_type": "code",
   "execution_count": 19,
   "id": "b9056729",
   "metadata": {},
   "outputs": [
    {
     "data": {
      "text/plain": [
       "1.9704781143120913"
      ]
     },
     "execution_count": 19,
     "metadata": {},
     "output_type": "execute_result"
    }
   ],
   "source": [
    "predictions = model.predict(X_test)\n",
    "math.sqrt(mean_squared_error(y_test, predictions))"
   ]
  },
  {
   "cell_type": "code",
   "execution_count": 13,
   "id": "21dafb70",
   "metadata": {},
   "outputs": [],
   "source": [
    "y = (m1 * 58.2) + (m2 * 34) + b"
   ]
  },
  {
   "cell_type": "code",
   "execution_count": 14,
   "id": "0fcdc4b6",
   "metadata": {},
   "outputs": [
    {
     "data": {
      "text/plain": [
       "37.55720388631365"
      ]
     },
     "execution_count": 14,
     "metadata": {},
     "output_type": "execute_result"
    }
   ],
   "source": [
    "y"
   ]
  },
  {
   "cell_type": "markdown",
   "id": "ac4f8155",
   "metadata": {},
   "source": [
    "# The possum will have a tail length around 38 cm. "
   ]
  },
  {
   "cell_type": "code",
   "execution_count": 21,
   "id": "62abcf6f",
   "metadata": {},
   "outputs": [
    {
     "data": {
      "text/plain": [
       "43.0"
      ]
     },
     "execution_count": 21,
     "metadata": {},
     "output_type": "execute_result"
    }
   ],
   "source": [
    "df[\"taill\"].max()"
   ]
  },
  {
   "cell_type": "code",
   "execution_count": null,
   "id": "d97d798a",
   "metadata": {},
   "outputs": [],
   "source": [
    "# We are ok with a 2 cm difference. \n",
    "# Which means, everything that is within 2 cm of the acutual value will be considered correct.\n"
   ]
  }
 ],
 "metadata": {
  "kernelspec": {
   "display_name": "Python 3 (ipykernel)",
   "language": "python",
   "name": "python3"
  },
  "language_info": {
   "codemirror_mode": {
    "name": "ipython",
    "version": 3
   },
   "file_extension": ".py",
   "mimetype": "text/x-python",
   "name": "python",
   "nbconvert_exporter": "python",
   "pygments_lexer": "ipython3",
   "version": "3.9.13"
  }
 },
 "nbformat": 4,
 "nbformat_minor": 5
}
